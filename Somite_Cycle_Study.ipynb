{
 "cells": [
  {
   "cell_type": "code",
   "execution_count": 113,
   "metadata": {},
   "outputs": [],
   "source": [
    "import random\n",
    "import pandas as pd\n",
    "import numpy as np\n",
    "import scanpy as sc\n",
    "from scipy import signal\n",
    "import matplotlib.pyplot\n",
    "\n",
    "def get_normed_and_zero_filtered_data(filename):\n",
    "    # TODO perhaps include other normalization options\n",
    "    df = pd.read_csv(filename, sep = '\\t', index_col = 0)\n",
    "    df = df / df.mean()\n",
    "    df = df.loc[df.sum(axis=1) != 0,:]\n",
    "    df = (df\n",
    "          .assign(sum=df.sum(axis=1))\n",
    "          .sort_values(by='sum', ascending=False)\n",
    "          .drop('sum', axis = 1)\n",
    "         )\n",
    "    return df\n",
    "\n",
    "def get_s745_time(names):\n",
    "    return [float(el.split('_')[1]) for el in names]\n",
    "\n",
    "def get_s814_time(names):\n",
    "    return [ 6.25 * float(el.split('_')[0][-2:]) for el in names]\n",
    "\n",
    "def get_periodgram(sc_data):\n",
    "    return [signal.periodogram(sc_data.X[:,i]) for i in range(sc_data.shape[1])]\n",
    "\n",
    "def plot_one_row_line(df, row_num):\n",
    "    df.iloc[row_num,:].plot.line()\n",
    "    \n",
    "def plot_one_row_scatter(df, row_num, time):\n",
    "    matplotlib.pyplot.scatter(df.iloc[row_num,:], time)\n",
    "      \n"
   ]
  },
  {
   "cell_type": "code",
   "execution_count": 114,
   "metadata": {},
   "outputs": [
    {
     "data": {
      "image/png": "[encoded data removed]",
      "text/plain": [
       "<Figure size 432x288 with 1 Axes>"
      ]
     },
     "metadata": {
      "needs_background": "light"
     },
     "output_type": "display_data"
    }
   ],
   "source": [
    "s745_df = get_normed_and_zero_filtered_data(\"data/sub_0745_miRNA.ec.tab\")\n",
    "s745_time = get_s745_time(s745_df.columns)\n",
    "s814_df = get_normed_and_zero_filtered_data(\"data/sub_0814_miRNA.ec.tab\")\n",
    "\n",
    "plot_one_row_scatter(s745_df, 1,s745_time )\n"
   ]
  },
  {
   "cell_type": "code",
   "execution_count": 115,
   "metadata": {},
   "outputs": [],
   "source": [
    " \n",
    "s814_adata = sc.read(\"data/sub_0814_miRNA.ec.tab\").T\n",
    "\n",
    "s814_adata.obs['time'] = get_s814_time(s814_adata.obs.index)\n",
    "\n",
    "sc.pp.normalize_total(s814_adata, target_sum=1e6, exclude_highly_expressed=True)\n",
    "sc.pp.log1p(s814_adata)\n",
    "sc.pp.filter_genes(s814_adata, min_counts=1)\n",
    "\n",
    "sc.pp.highly_variable_genes(s814_adata, n_top_genes=50)\n",
    "# sc.pl.highest_expr_genes(s814_adata, n_top=30, )\n",
    "\n",
    "\n",
    "s814_pd = get_periodgram(s814_adata[:,s814_adata.var.highly_variable]) \n",
    "s814_pd_array = np.array([i[1] for i in s814_pd])\n",
    "#print(s814_pd_array.shape[0])\n",
    "\n"
   ]
  },
  {
   "cell_type": "code",
   "execution_count": 116,
   "metadata": {},
   "outputs": [],
   "source": [
    "\n",
    "def dist(x, y):\n",
    "    return (x-y).T@(x-y)\n",
    "\n",
    "\n",
    "\"\"\"\n",
    "    this implementation of k-means takes as input (i) a matrix pd\n",
    "    with the data points as columns (ii) an integer K representing the number \n",
    "    of clusters, and returns (i) a matrix with the K columns representing \n",
    "    the cluster centers \n",
    "    \"\"\"\n",
    "def k_means_from_pd_data(pd, K, maxIters = 30):\n",
    "\n",
    "    pd_transpose = pd.T\n",
    "    centroids = pd[np.random.choice(pd_transpose.shape[0], K)]\n",
    "    for i in range(maxIters):\n",
    "        # Cluster Assignment step\n",
    "        C = np.array([np.argmin([dist(x_i, y_k) for y_k in centroids]) for x_i in pd])\n",
    "        # Update centroids step\n",
    "        for k in range(K):\n",
    "            if (C == k).any():\n",
    "                centroids[k] = pd[C == k].mean(axis = 0) \n",
    "            else: # if there are no data points assigned to this certain centroid\n",
    "                centroids[k] = pd[np.random.choice(len(pd))] \n",
    "    return centroids.transpose()\n",
    "\n",
    "   \n",
    "    \n",
    "    \"\"\"\n",
    "    inds = random.sample([i for i in range(50)])\n",
    "    centroids = [pd[i][1] for i in inds]\n",
    "    membership = {}\n",
    "    for pd_i in pd:\n",
    "        membership[i]=None\n",
    "        min_dist = 99999999999999\n",
    "        for centroid in centroids:\n",
    "            dist = (pd_i[1]- centroid).norm()\n",
    "            if dist < min_dist:\n",
    "                dist = min_dist\n",
    "                membership[i] = centroid\n",
    "    # recalculate centroids:\n",
    "    centroids = [np.zeros(size(centroid)) for el in centroids]\n",
    "    centroid_count = {i:0 for i in range(k)}\n",
    "    for i, pd_i in enumerate(pd):\n",
    "        centroids[membership[i]] += pd_i[1]\n",
    "        centroid_count[membership[i]] \n",
    "    \"\"\"\n",
    "    \n",
    "\n",
    "\n"
   ]
  },
  {
   "cell_type": "code",
   "execution_count": 117,
   "metadata": {},
   "outputs": [
    {
     "name": "stdout",
     "output_type": "stream",
     "text": [
      "centroids = \n",
      " [[1.48029744e-12 2.36847597e-13 6.31346863e-13 1.90746890e-14\n",
      "  2.85075674e-12 1.58391805e-15 8.30773330e-13 1.14492129e-12\n",
      "  3.35534081e-15 1.71716981e-12]\n",
      " [2.66755463e+02 6.87603474e+00 6.15288591e+00 1.41133368e+00\n",
      "  2.81935358e+00 1.94272250e-01 6.03191912e-01 2.09748125e+00\n",
      "  1.47803462e+00 3.81075592e+01]\n",
      " [7.75980911e+01 4.21837986e-01 3.52315664e+00 2.63189745e+00\n",
      "  7.37103343e-01 3.02347839e-01 4.68191236e-01 1.76460111e+00\n",
      "  3.41758251e-01 1.06597261e+01]\n",
      " [4.89475727e-01 1.13053179e+00 5.40085506e+00 1.61730707e+00\n",
      "  5.75078368e-01 2.38379389e-01 2.85900593e-01 2.32746053e+00\n",
      "  1.97642967e-01 4.42511797e+00]\n",
      " [7.24994802e+00 2.21535707e+00 2.48420024e+00 1.28648376e+00\n",
      "  1.79061079e+00 2.56417036e-01 3.14239144e-01 2.89420605e+00\n",
      "  1.92152426e-01 4.44274950e+00]\n",
      " [1.22641563e+01 3.88404989e+00 1.26793301e+00 1.58288980e+00\n",
      "  8.94370854e-01 1.59887999e-01 6.40063703e-01 1.26832700e+00\n",
      "  3.67662817e-01 3.33525014e+00]\n",
      " [1.14321232e+00 3.15888882e+00 2.48813009e+00 2.32075715e+00\n",
      "  3.03924710e-01 2.02274278e-01 4.54448044e-01 1.95120466e+00\n",
      "  1.46164095e+00 2.51805997e+00]\n",
      " [4.63681269e+00 3.08432460e+00 2.72747421e+00 1.76571298e+00\n",
      "  5.75210154e-01 2.35884696e-01 3.87300313e-01 2.65797067e+00\n",
      "  1.24010742e+00 2.88321018e+00]\n",
      " [1.37969055e+01 2.56356621e+00 3.20672417e+00 1.39317966e+00\n",
      "  6.09911144e-01 2.13935941e-01 2.39095166e-01 2.87554908e+00\n",
      "  1.05413759e+00 2.15368366e+00]\n",
      " [1.62150860e+00 7.95834494e+00 2.31909657e+00 2.06163979e+00\n",
      "  1.18048303e-01 2.92409122e-01 3.51640970e-01 1.54043901e+00\n",
      "  6.74208105e-01 1.64749944e+00]\n",
      " [3.37383795e+00 5.25173330e+00 3.24544239e+00 1.73541081e+00\n",
      "  2.92571306e-01 2.75795877e-01 4.16880012e-01 9.49741542e-01\n",
      "  9.12166059e-01 1.98833263e+00]\n",
      " [6.29846954e+00 6.98767304e-01 3.52191830e+00 9.25348103e-01\n",
      "  7.01993585e-01 2.44539335e-01 3.01787108e-01 1.72136688e+00\n",
      "  4.36380625e-01 1.47386682e+00]\n",
      " [9.04879093e-01 4.41895247e+00 8.08261395e+00 1.07828927e+00\n",
      "  3.09880686e+00 3.35945606e-01 4.09700483e-01 7.69142437e+00\n",
      "  6.51591361e-01 9.16497898e+00]\n",
      " [1.32526731e+00 1.96160674e+00 2.70663476e+00 1.27473640e+00\n",
      "  3.80246788e-01 2.22554609e-01 5.60992479e-01 1.30024230e+00\n",
      "  3.05182666e-01 3.83964753e+00]\n",
      " [2.05574274e+00 5.83717823e+00 4.13822442e-01 1.98131669e+00\n",
      "  1.30369589e-01 2.28325725e-01 3.35176736e-01 2.33185530e+00\n",
      "  7.11190224e-01 1.26962793e+00]\n",
      " [2.42360592e+00 1.48190951e+00 2.90836358e+00 2.34289980e+00\n",
      "  2.95461237e-01 2.42082790e-01 4.20217067e-01 8.80566955e-01\n",
      "  9.17311490e-01 1.32148671e+00]\n",
      " [3.48644161e+00 3.03127480e+00 1.73272538e+00 1.03149199e+00\n",
      "  8.88661861e-01 2.17529818e-01 5.99667132e-01 3.45419109e-01\n",
      "  4.29671049e-01 9.61132288e-01]\n",
      " [2.61065149e+00 2.10610151e+00 2.20889235e+00 9.64309394e-01\n",
      "  1.32379818e+00 2.14070469e-01 6.52554929e-01 7.85524428e-01\n",
      "  7.21534550e-01 1.43856394e+00]\n",
      " [4.69384766e+00 3.41019034e+00 2.31961966e+00 1.31552148e+00\n",
      "  2.03780603e+00 2.27727920e-01 5.65864623e-01 6.40543878e-01\n",
      "  2.32002333e-01 1.78863013e+00]\n",
      " [4.16094398e+00 5.63891828e-01 5.19814777e+00 1.53634918e+00\n",
      "  1.30331799e-01 2.77438939e-01 4.07935262e-01 1.16250408e+00\n",
      "  1.75484300e-01 1.81769180e+00]\n",
      " [9.63774490e+00 4.87910867e-01 1.39984679e+00 1.63358772e+00\n",
      "  1.13176095e+00 1.83934718e-01 2.67693371e-01 1.25826812e+00\n",
      "  1.29144132e+00 2.14288139e+00]\n",
      " [3.14577520e-01 2.53136230e+00 6.12981558e-01 9.95033681e-01\n",
      "  9.29443240e-01 2.61608392e-01 3.06027025e-01 4.40480173e-01\n",
      "  6.26365244e-01 2.07693076e+00]\n",
      " [2.52873510e-01 4.85424131e-01 4.37097979e+00 1.18049359e+00\n",
      "  1.73871040e+00 2.49002412e-01 7.02743888e-01 1.86689818e+00\n",
      "  5.24053872e-01 1.30595315e+00]\n",
      " [1.40147960e+00 1.27286613e+00 2.29477406e+00 1.03677869e+00\n",
      "  5.72178781e-01 1.68740869e-01 5.57648420e-01 2.64917397e+00\n",
      "  6.91102028e-01 1.04745650e+00]\n",
      " [4.67745399e+00 1.95963848e+00 3.35059404e+00 1.22054994e+00\n",
      "  6.80168033e-01 2.23755285e-01 5.65899134e-01 3.69017553e+00\n",
      "  7.04294026e-01 4.35806799e+00]\n",
      " [1.74755359e+00 7.01775670e-01 2.70843720e+00 1.08936715e+00\n",
      "  5.67854524e-01 1.87354475e-01 5.57869971e-01 2.08950162e+00\n",
      "  6.25510097e-01 1.31682324e+00]\n",
      " [7.59909868e-01 4.14282608e+00 4.35636711e+00 6.27307057e-01\n",
      "  4.69066501e-01 2.51594573e-01 5.95183790e-01 6.65864825e-01\n",
      "  8.61802518e-01 1.01666415e+00]\n",
      " [8.93548965e+00 2.42741704e+00 2.30860400e+00 9.42437828e-01\n",
      "  1.16723466e+00 1.93418056e-01 3.30803663e-01 4.80013222e-01\n",
      "  5.30481994e-01 8.59637976e-01]\n",
      " [8.57382178e-01 2.03961182e+00 2.13798046e+00 1.32464385e+00\n",
      "  1.71193707e+00 2.27500170e-01 6.03751838e-01 1.21943831e+00\n",
      "  4.66614366e-01 2.15055418e+00]\n",
      " [9.97514248e-01 1.43719578e+00 3.73708773e+00 5.75457036e-01\n",
      "  5.88214457e-01 2.69815594e-01 3.72591048e-01 5.64032853e-01\n",
      "  7.62932956e-01 1.27389193e+00]\n",
      " [1.52042055e+00 1.35658360e+00 1.51284933e+00 5.97511888e-01\n",
      "  4.32008386e-01 2.35701948e-01 5.06095648e-01 1.56940794e+00\n",
      "  1.37634504e+00 2.56591201e+00]\n",
      " [2.42468819e-01 2.18241721e-01 2.71154165e+00 1.33638155e+00\n",
      "  2.84572005e-01 2.41588518e-01 4.02596474e-01 5.28329551e-01\n",
      "  4.21939850e-01 8.51911485e-01]\n",
      " [3.70451355e+00 4.92517889e-01 2.53522730e+00 1.49253380e+00\n",
      "  3.37422282e-01 1.40253276e-01 4.86089408e-01 9.48217273e-01\n",
      "  6.48029268e-01 5.99793494e-01]\n",
      " [1.55487609e+00 4.71872807e+00 3.14871597e+00 2.09069586e+00\n",
      "  2.13987589e+00 2.69889712e-01 3.61833185e-01 1.58277881e+00\n",
      "  5.33196986e-01 4.93731409e-01]\n",
      " [1.45463789e+00 3.75970149e+00 3.46435452e+00 8.09649110e-01\n",
      "  6.41475379e-01 1.30314067e-01 4.39677745e-01 1.00372744e+00\n",
      "  6.92551315e-01 2.02512956e+00]\n",
      " [1.68862283e+00 2.05622196e+00 2.55208039e+00 5.99194586e-01\n",
      "  9.82152879e-01 1.77872390e-01 4.33219135e-01 9.04258430e-01\n",
      "  8.41954470e-01 2.91057885e-01]\n",
      " [2.76923561e+00 1.71310245e-03 9.78611565e+00 1.88415885e+00\n",
      "  3.26406568e-01 1.41700774e-01 3.60659748e-01 2.85772562e+00\n",
      "  3.45606089e-01 2.72180247e+00]\n",
      " [8.59829843e-01 1.02754526e+01 1.07479048e+00 1.61255205e+00\n",
      "  2.89432079e-01 2.26180717e-01 3.84160787e-01 1.84875655e+00\n",
      "  9.62586641e-01 9.16428328e-01]\n",
      " [6.78830624e-01 5.37983131e+00 1.98481929e+00 1.75950468e+00\n",
      "  2.64405876e-01 1.81450039e-01 4.32560533e-01 1.89190614e+00\n",
      "  1.15606570e+00 8.87848914e-01]\n",
      " [5.70716429e+00 2.10248396e-01 4.47459126e+00 2.65755963e+00\n",
      "  1.48772991e+00 2.23780349e-01 4.80452836e-01 1.57007527e+00\n",
      "  2.72720844e-01 1.58763278e+00]\n",
      " [3.66340816e-01 6.03785276e+00 2.76148534e+00 2.84032202e+00\n",
      "  1.14956275e-01 1.98270306e-01 7.92847097e-01 7.77291417e-01\n",
      "  1.86428294e-01 5.91179788e-01]\n",
      " [6.68463421e+00 1.39025897e-01 3.55270028e+00 1.73242497e+00\n",
      "  2.41866454e-01 2.52621621e-01 5.99762976e-01 4.95322615e-01\n",
      "  1.01005447e+00 1.90046155e+00]\n",
      " [3.69617522e-01 9.21102643e-01 2.07051754e+00 1.69701004e+00\n",
      "  2.39527658e-01 2.21525267e-01 5.61118305e-01 1.52286017e+00\n",
      "  6.46924555e-01 1.59612179e+00]\n",
      " [4.98799372e+00 2.29273975e-01 2.79808164e+00 1.82600343e+00\n",
      "  3.55356812e-01 1.91181034e-01 3.57502460e-01 8.66831601e-01\n",
      "  7.16233194e-01 7.35347033e-01]\n",
      " [4.27961111e+00 1.95536542e+00 2.76332736e+00 1.06605256e+00\n",
      "  7.88931549e-02 1.90696955e-01 1.90607697e-01 1.11436629e+00\n",
      "  1.96131337e+00 1.61954057e+00]\n",
      " [7.83482504e+00 1.72383475e+00 4.56065118e-01 1.00802207e+00\n",
      "  2.16211557e+00 2.09514022e-01 4.31501508e-01 2.51533508e+00\n",
      "  7.28374720e-01 1.07054818e+00]\n",
      " [2.43473911e+00 1.14911041e+01 1.88164878e+00 1.26768768e+00\n",
      "  1.37606895e+00 1.66330516e-01 3.27515364e-01 1.45354402e+00\n",
      "  8.29189360e-01 2.02927589e+00]\n",
      " [4.53356266e+00 7.98605606e-02 5.59394360e+00 7.93026567e-01\n",
      "  4.50200051e-01 1.49695665e-01 3.73991102e-01 1.69164848e+00\n",
      "  6.44249976e-01 9.30857599e-01]\n",
      " [1.16542161e+00 5.47489882e-01 1.10686648e+00 6.23479843e-01\n",
      "  1.55155450e-01 1.02549389e-01 1.31637663e-01 8.46782982e-01\n",
      "  3.76640320e-01 7.90548265e-01]]\n"
     ]
    }
   ],
   "source": [
    "centroids_10 = k_means_from_pd_data(s814_pd_array,10)\n",
    "print('centroids = \\n', centroids_10)"
   ]
  },
  {
   "cell_type": "code",
   "execution_count": 118,
   "metadata": {},
   "outputs": [
    {
     "ename": "AttributeError",
     "evalue": "'list' object has no attribute 'shape'",
     "output_type": "error",
     "traceback": [
      "\u001b[0;31m---------------------------------------------------------------------------\u001b[0m",
      "\u001b[0;31mAttributeError\u001b[0m                            Traceback (most recent call last)",
      "\u001b[0;32m<ipython-input-118-3e6050203161>\u001b[0m in \u001b[0;36m<module>\u001b[0;34m\u001b[0m\n\u001b[0;32m----> 1\u001b[0;31m \u001b[0ms814_pd\u001b[0m\u001b[0;34m.\u001b[0m\u001b[0mshape\u001b[0m\u001b[0;34m\u001b[0m\u001b[0;34m\u001b[0m\u001b[0m\n\u001b[0m\u001b[1;32m      2\u001b[0m \u001b[0mnp\u001b[0m\u001b[0;34m.\u001b[0m\u001b[0mlog\u001b[0m\u001b[0;34m(\u001b[0m\u001b[0ms814_pd\u001b[0m\u001b[0;34m[\u001b[0m\u001b[0;36m1\u001b[0m\u001b[0;34m]\u001b[0m\u001b[0;34m[\u001b[0m\u001b[0;36m1\u001b[0m\u001b[0;34m]\u001b[0m\u001b[0;34m+\u001b[0m\u001b[0;36m1\u001b[0m\u001b[0;34m)\u001b[0m\u001b[0;34m\u001b[0m\u001b[0;34m\u001b[0m\u001b[0m\n\u001b[1;32m      3\u001b[0m \u001b[0;34m\u001b[0m\u001b[0m\n",
      "\u001b[0;31mAttributeError\u001b[0m: 'list' object has no attribute 'shape'"
     ]
    }
   ],
   "source": [
    "s814_pd.shape\n",
    "np.log(s814_pd[1][1]+1)\n",
    "\n"
   ]
  },
  {
   "cell_type": "code",
   "execution_count": 35,
   "metadata": {},
   "outputs": [
    {
     "ename": "ValueError",
     "evalue": "x and y must be the same size",
     "output_type": "error",
     "traceback": [
      "\u001b[0;31m---------------------------------------------------------------------------\u001b[0m",
      "\u001b[0;31mValueError\u001b[0m                                Traceback (most recent call last)",
      "\u001b[0;32m<ipython-input-35-e4c6e7aaadd3>\u001b[0m in \u001b[0;36m<module>\u001b[0;34m\u001b[0m\n\u001b[1;32m      1\u001b[0m \u001b[0;32mfor\u001b[0m \u001b[0mi\u001b[0m \u001b[0;32min\u001b[0m \u001b[0mrange\u001b[0m\u001b[0;34m(\u001b[0m\u001b[0;36m10\u001b[0m\u001b[0;34m)\u001b[0m\u001b[0;34m:\u001b[0m\u001b[0;34m\u001b[0m\u001b[0;34m\u001b[0m\u001b[0m\n\u001b[0;32m----> 2\u001b[0;31m     \u001b[0mmatplotlib\u001b[0m\u001b[0;34m.\u001b[0m\u001b[0mpyplot\u001b[0m\u001b[0;34m.\u001b[0m\u001b[0mscatter\u001b[0m\u001b[0;34m(\u001b[0m\u001b[0ms814_pd\u001b[0m\u001b[0;34m[\u001b[0m\u001b[0mi\u001b[0m\u001b[0;34m]\u001b[0m\u001b[0;34m[\u001b[0m\u001b[0;36m0\u001b[0m\u001b[0;34m]\u001b[0m\u001b[0;34m,\u001b[0m \u001b[0mnp\u001b[0m\u001b[0;34m.\u001b[0m\u001b[0mlog\u001b[0m\u001b[0;34m(\u001b[0m\u001b[0ms814_pd\u001b[0m\u001b[0;34m[\u001b[0m\u001b[0mi\u001b[0m\u001b[0;34m]\u001b[0m\u001b[0;34m[\u001b[0m\u001b[0;36m1\u001b[0m\u001b[0;34m]\u001b[0m\u001b[0;34m+\u001b[0m\u001b[0;36m1\u001b[0m\u001b[0;34m)\u001b[0m\u001b[0;34m)\u001b[0m\u001b[0;34m\u001b[0m\u001b[0;34m\u001b[0m\u001b[0m\n\u001b[0m",
      "\u001b[0;32m~/.venvs/jlab2/lib/python3.8/site-packages/matplotlib/pyplot.py\u001b[0m in \u001b[0;36mscatter\u001b[0;34m(x, y, s, c, marker, cmap, norm, vmin, vmax, alpha, linewidths, verts, edgecolors, plotnonfinite, data, **kwargs)\u001b[0m\n\u001b[1;32m   2888\u001b[0m         \u001b[0mverts\u001b[0m\u001b[0;34m=\u001b[0m\u001b[0mcbook\u001b[0m\u001b[0;34m.\u001b[0m\u001b[0mdeprecation\u001b[0m\u001b[0;34m.\u001b[0m\u001b[0m_deprecated_parameter\u001b[0m\u001b[0;34m,\u001b[0m\u001b[0;34m\u001b[0m\u001b[0;34m\u001b[0m\u001b[0m\n\u001b[1;32m   2889\u001b[0m         edgecolors=None, *, plotnonfinite=False, data=None, **kwargs):\n\u001b[0;32m-> 2890\u001b[0;31m     __ret = gca().scatter(\n\u001b[0m\u001b[1;32m   2891\u001b[0m         \u001b[0mx\u001b[0m\u001b[0;34m,\u001b[0m \u001b[0my\u001b[0m\u001b[0;34m,\u001b[0m \u001b[0ms\u001b[0m\u001b[0;34m=\u001b[0m\u001b[0ms\u001b[0m\u001b[0;34m,\u001b[0m \u001b[0mc\u001b[0m\u001b[0;34m=\u001b[0m\u001b[0mc\u001b[0m\u001b[0;34m,\u001b[0m \u001b[0mmarker\u001b[0m\u001b[0;34m=\u001b[0m\u001b[0mmarker\u001b[0m\u001b[0;34m,\u001b[0m \u001b[0mcmap\u001b[0m\u001b[0;34m=\u001b[0m\u001b[0mcmap\u001b[0m\u001b[0;34m,\u001b[0m \u001b[0mnorm\u001b[0m\u001b[0;34m=\u001b[0m\u001b[0mnorm\u001b[0m\u001b[0;34m,\u001b[0m\u001b[0;34m\u001b[0m\u001b[0;34m\u001b[0m\u001b[0m\n\u001b[1;32m   2892\u001b[0m         \u001b[0mvmin\u001b[0m\u001b[0;34m=\u001b[0m\u001b[0mvmin\u001b[0m\u001b[0;34m,\u001b[0m \u001b[0mvmax\u001b[0m\u001b[0;34m=\u001b[0m\u001b[0mvmax\u001b[0m\u001b[0;34m,\u001b[0m \u001b[0malpha\u001b[0m\u001b[0;34m=\u001b[0m\u001b[0malpha\u001b[0m\u001b[0;34m,\u001b[0m \u001b[0mlinewidths\u001b[0m\u001b[0;34m=\u001b[0m\u001b[0mlinewidths\u001b[0m\u001b[0;34m,\u001b[0m\u001b[0;34m\u001b[0m\u001b[0;34m\u001b[0m\u001b[0m\n",
      "\u001b[0;32m~/.venvs/jlab2/lib/python3.8/site-packages/matplotlib/__init__.py\u001b[0m in \u001b[0;36minner\u001b[0;34m(ax, data, *args, **kwargs)\u001b[0m\n\u001b[1;32m   1445\u001b[0m     \u001b[0;32mdef\u001b[0m \u001b[0minner\u001b[0m\u001b[0;34m(\u001b[0m\u001b[0max\u001b[0m\u001b[0;34m,\u001b[0m \u001b[0;34m*\u001b[0m\u001b[0margs\u001b[0m\u001b[0;34m,\u001b[0m \u001b[0mdata\u001b[0m\u001b[0;34m=\u001b[0m\u001b[0;32mNone\u001b[0m\u001b[0;34m,\u001b[0m \u001b[0;34m**\u001b[0m\u001b[0mkwargs\u001b[0m\u001b[0;34m)\u001b[0m\u001b[0;34m:\u001b[0m\u001b[0;34m\u001b[0m\u001b[0;34m\u001b[0m\u001b[0m\n\u001b[1;32m   1446\u001b[0m         \u001b[0;32mif\u001b[0m \u001b[0mdata\u001b[0m \u001b[0;32mis\u001b[0m \u001b[0;32mNone\u001b[0m\u001b[0;34m:\u001b[0m\u001b[0;34m\u001b[0m\u001b[0;34m\u001b[0m\u001b[0m\n\u001b[0;32m-> 1447\u001b[0;31m             \u001b[0;32mreturn\u001b[0m \u001b[0mfunc\u001b[0m\u001b[0;34m(\u001b[0m\u001b[0max\u001b[0m\u001b[0;34m,\u001b[0m \u001b[0;34m*\u001b[0m\u001b[0mmap\u001b[0m\u001b[0;34m(\u001b[0m\u001b[0msanitize_sequence\u001b[0m\u001b[0;34m,\u001b[0m \u001b[0margs\u001b[0m\u001b[0;34m)\u001b[0m\u001b[0;34m,\u001b[0m \u001b[0;34m**\u001b[0m\u001b[0mkwargs\u001b[0m\u001b[0;34m)\u001b[0m\u001b[0;34m\u001b[0m\u001b[0;34m\u001b[0m\u001b[0m\n\u001b[0m\u001b[1;32m   1448\u001b[0m \u001b[0;34m\u001b[0m\u001b[0m\n\u001b[1;32m   1449\u001b[0m         \u001b[0mbound\u001b[0m \u001b[0;34m=\u001b[0m \u001b[0mnew_sig\u001b[0m\u001b[0;34m.\u001b[0m\u001b[0mbind\u001b[0m\u001b[0;34m(\u001b[0m\u001b[0max\u001b[0m\u001b[0;34m,\u001b[0m \u001b[0;34m*\u001b[0m\u001b[0margs\u001b[0m\u001b[0;34m,\u001b[0m \u001b[0;34m**\u001b[0m\u001b[0mkwargs\u001b[0m\u001b[0;34m)\u001b[0m\u001b[0;34m\u001b[0m\u001b[0;34m\u001b[0m\u001b[0m\n",
      "\u001b[0;32m~/.venvs/jlab2/lib/python3.8/site-packages/matplotlib/cbook/deprecation.py\u001b[0m in \u001b[0;36mwrapper\u001b[0;34m(*inner_args, **inner_kwargs)\u001b[0m\n\u001b[1;32m    409\u001b[0m                          \u001b[0;32melse\u001b[0m \u001b[0mdeprecation_addendum\u001b[0m\u001b[0;34m,\u001b[0m\u001b[0;34m\u001b[0m\u001b[0;34m\u001b[0m\u001b[0m\n\u001b[1;32m    410\u001b[0m                 **kwargs)\n\u001b[0;32m--> 411\u001b[0;31m         \u001b[0;32mreturn\u001b[0m \u001b[0mfunc\u001b[0m\u001b[0;34m(\u001b[0m\u001b[0;34m*\u001b[0m\u001b[0minner_args\u001b[0m\u001b[0;34m,\u001b[0m \u001b[0;34m**\u001b[0m\u001b[0minner_kwargs\u001b[0m\u001b[0;34m)\u001b[0m\u001b[0;34m\u001b[0m\u001b[0;34m\u001b[0m\u001b[0m\n\u001b[0m\u001b[1;32m    412\u001b[0m \u001b[0;34m\u001b[0m\u001b[0m\n\u001b[1;32m    413\u001b[0m     \u001b[0;32mreturn\u001b[0m \u001b[0mwrapper\u001b[0m\u001b[0;34m\u001b[0m\u001b[0;34m\u001b[0m\u001b[0m\n",
      "\u001b[0;32m~/.venvs/jlab2/lib/python3.8/site-packages/matplotlib/axes/_axes.py\u001b[0m in \u001b[0;36mscatter\u001b[0;34m(self, x, y, s, c, marker, cmap, norm, vmin, vmax, alpha, linewidths, verts, edgecolors, plotnonfinite, **kwargs)\u001b[0m\n\u001b[1;32m   4439\u001b[0m         \u001b[0my\u001b[0m \u001b[0;34m=\u001b[0m \u001b[0mnp\u001b[0m\u001b[0;34m.\u001b[0m\u001b[0mma\u001b[0m\u001b[0;34m.\u001b[0m\u001b[0mravel\u001b[0m\u001b[0;34m(\u001b[0m\u001b[0my\u001b[0m\u001b[0;34m)\u001b[0m\u001b[0;34m\u001b[0m\u001b[0;34m\u001b[0m\u001b[0m\n\u001b[1;32m   4440\u001b[0m         \u001b[0;32mif\u001b[0m \u001b[0mx\u001b[0m\u001b[0;34m.\u001b[0m\u001b[0msize\u001b[0m \u001b[0;34m!=\u001b[0m \u001b[0my\u001b[0m\u001b[0;34m.\u001b[0m\u001b[0msize\u001b[0m\u001b[0;34m:\u001b[0m\u001b[0;34m\u001b[0m\u001b[0;34m\u001b[0m\u001b[0m\n\u001b[0;32m-> 4441\u001b[0;31m             \u001b[0;32mraise\u001b[0m \u001b[0mValueError\u001b[0m\u001b[0;34m(\u001b[0m\u001b[0;34m\"x and y must be the same size\"\u001b[0m\u001b[0;34m)\u001b[0m\u001b[0;34m\u001b[0m\u001b[0;34m\u001b[0m\u001b[0m\n\u001b[0m\u001b[1;32m   4442\u001b[0m \u001b[0;34m\u001b[0m\u001b[0m\n\u001b[1;32m   4443\u001b[0m         \u001b[0;32mif\u001b[0m \u001b[0ms\u001b[0m \u001b[0;32mis\u001b[0m \u001b[0;32mNone\u001b[0m\u001b[0;34m:\u001b[0m\u001b[0;34m\u001b[0m\u001b[0;34m\u001b[0m\u001b[0m\n",
      "\u001b[0;31mValueError\u001b[0m: x and y must be the same size"
     ]
    },
    {
     "data": {
      "image/png": "[encoded data removed]",
      "text/plain": [
       "<Figure size 432x288 with 1 Axes>"
      ]
     },
     "metadata": {
      "needs_background": "light"
     },
     "output_type": "display_data"
    }
   ],
   "source": [
    "for i in range(10):\n",
    "    matplotlib.pyplot.scatter(s814_pd[i][0], np.log(s814_pd[i][1]+1))"
   ]
  },
  {
   "cell_type": "code",
   "execution_count": 36,
   "metadata": {},
   "outputs": [
    {
     "ename": "ValueError",
     "evalue": "x and y must be the same size",
     "output_type": "error",
     "traceback": [
      "\u001b[0;31m---------------------------------------------------------------------------\u001b[0m",
      "\u001b[0;31mValueError\u001b[0m                                Traceback (most recent call last)",
      "\u001b[0;32m<ipython-input-36-02b957680edc>\u001b[0m in \u001b[0;36m<module>\u001b[0;34m\u001b[0m\n\u001b[1;32m      1\u001b[0m \u001b[0;32mfor\u001b[0m \u001b[0mi\u001b[0m \u001b[0;32min\u001b[0m \u001b[0mrange\u001b[0m\u001b[0;34m(\u001b[0m\u001b[0;36m10\u001b[0m\u001b[0;34m,\u001b[0m\u001b[0;36m20\u001b[0m\u001b[0;34m)\u001b[0m\u001b[0;34m:\u001b[0m\u001b[0;34m\u001b[0m\u001b[0;34m\u001b[0m\u001b[0m\n\u001b[0;32m----> 2\u001b[0;31m     \u001b[0mmatplotlib\u001b[0m\u001b[0;34m.\u001b[0m\u001b[0mpyplot\u001b[0m\u001b[0;34m.\u001b[0m\u001b[0mscatter\u001b[0m\u001b[0;34m(\u001b[0m\u001b[0ms814_pd\u001b[0m\u001b[0;34m[\u001b[0m\u001b[0mi\u001b[0m\u001b[0;34m]\u001b[0m\u001b[0;34m[\u001b[0m\u001b[0;36m0\u001b[0m\u001b[0;34m]\u001b[0m\u001b[0;34m,\u001b[0m \u001b[0mnp\u001b[0m\u001b[0;34m.\u001b[0m\u001b[0mlog\u001b[0m\u001b[0;34m(\u001b[0m\u001b[0ms814_pd\u001b[0m\u001b[0;34m[\u001b[0m\u001b[0mi\u001b[0m\u001b[0;34m]\u001b[0m\u001b[0;34m[\u001b[0m\u001b[0;36m1\u001b[0m\u001b[0;34m]\u001b[0m\u001b[0;34m+\u001b[0m\u001b[0;36m1\u001b[0m\u001b[0;34m)\u001b[0m\u001b[0;34m)\u001b[0m\u001b[0;34m\u001b[0m\u001b[0;34m\u001b[0m\u001b[0m\n\u001b[0m",
      "\u001b[0;32m~/.venvs/jlab2/lib/python3.8/site-packages/matplotlib/pyplot.py\u001b[0m in \u001b[0;36mscatter\u001b[0;34m(x, y, s, c, marker, cmap, norm, vmin, vmax, alpha, linewidths, verts, edgecolors, plotnonfinite, data, **kwargs)\u001b[0m\n\u001b[1;32m   2888\u001b[0m         \u001b[0mverts\u001b[0m\u001b[0;34m=\u001b[0m\u001b[0mcbook\u001b[0m\u001b[0;34m.\u001b[0m\u001b[0mdeprecation\u001b[0m\u001b[0;34m.\u001b[0m\u001b[0m_deprecated_parameter\u001b[0m\u001b[0;34m,\u001b[0m\u001b[0;34m\u001b[0m\u001b[0;34m\u001b[0m\u001b[0m\n\u001b[1;32m   2889\u001b[0m         edgecolors=None, *, plotnonfinite=False, data=None, **kwargs):\n\u001b[0;32m-> 2890\u001b[0;31m     __ret = gca().scatter(\n\u001b[0m\u001b[1;32m   2891\u001b[0m         \u001b[0mx\u001b[0m\u001b[0;34m,\u001b[0m \u001b[0my\u001b[0m\u001b[0;34m,\u001b[0m \u001b[0ms\u001b[0m\u001b[0;34m=\u001b[0m\u001b[0ms\u001b[0m\u001b[0;34m,\u001b[0m \u001b[0mc\u001b[0m\u001b[0;34m=\u001b[0m\u001b[0mc\u001b[0m\u001b[0;34m,\u001b[0m \u001b[0mmarker\u001b[0m\u001b[0;34m=\u001b[0m\u001b[0mmarker\u001b[0m\u001b[0;34m,\u001b[0m \u001b[0mcmap\u001b[0m\u001b[0;34m=\u001b[0m\u001b[0mcmap\u001b[0m\u001b[0;34m,\u001b[0m \u001b[0mnorm\u001b[0m\u001b[0;34m=\u001b[0m\u001b[0mnorm\u001b[0m\u001b[0;34m,\u001b[0m\u001b[0;34m\u001b[0m\u001b[0;34m\u001b[0m\u001b[0m\n\u001b[1;32m   2892\u001b[0m         \u001b[0mvmin\u001b[0m\u001b[0;34m=\u001b[0m\u001b[0mvmin\u001b[0m\u001b[0;34m,\u001b[0m \u001b[0mvmax\u001b[0m\u001b[0;34m=\u001b[0m\u001b[0mvmax\u001b[0m\u001b[0;34m,\u001b[0m \u001b[0malpha\u001b[0m\u001b[0;34m=\u001b[0m\u001b[0malpha\u001b[0m\u001b[0;34m,\u001b[0m \u001b[0mlinewidths\u001b[0m\u001b[0;34m=\u001b[0m\u001b[0mlinewidths\u001b[0m\u001b[0;34m,\u001b[0m\u001b[0;34m\u001b[0m\u001b[0;34m\u001b[0m\u001b[0m\n",
      "\u001b[0;32m~/.venvs/jlab2/lib/python3.8/site-packages/matplotlib/__init__.py\u001b[0m in \u001b[0;36minner\u001b[0;34m(ax, data, *args, **kwargs)\u001b[0m\n\u001b[1;32m   1445\u001b[0m     \u001b[0;32mdef\u001b[0m \u001b[0minner\u001b[0m\u001b[0;34m(\u001b[0m\u001b[0max\u001b[0m\u001b[0;34m,\u001b[0m \u001b[0;34m*\u001b[0m\u001b[0margs\u001b[0m\u001b[0;34m,\u001b[0m \u001b[0mdata\u001b[0m\u001b[0;34m=\u001b[0m\u001b[0;32mNone\u001b[0m\u001b[0;34m,\u001b[0m \u001b[0;34m**\u001b[0m\u001b[0mkwargs\u001b[0m\u001b[0;34m)\u001b[0m\u001b[0;34m:\u001b[0m\u001b[0;34m\u001b[0m\u001b[0;34m\u001b[0m\u001b[0m\n\u001b[1;32m   1446\u001b[0m         \u001b[0;32mif\u001b[0m \u001b[0mdata\u001b[0m \u001b[0;32mis\u001b[0m \u001b[0;32mNone\u001b[0m\u001b[0;34m:\u001b[0m\u001b[0;34m\u001b[0m\u001b[0;34m\u001b[0m\u001b[0m\n\u001b[0;32m-> 1447\u001b[0;31m             \u001b[0;32mreturn\u001b[0m \u001b[0mfunc\u001b[0m\u001b[0;34m(\u001b[0m\u001b[0max\u001b[0m\u001b[0;34m,\u001b[0m \u001b[0;34m*\u001b[0m\u001b[0mmap\u001b[0m\u001b[0;34m(\u001b[0m\u001b[0msanitize_sequence\u001b[0m\u001b[0;34m,\u001b[0m \u001b[0margs\u001b[0m\u001b[0;34m)\u001b[0m\u001b[0;34m,\u001b[0m \u001b[0;34m**\u001b[0m\u001b[0mkwargs\u001b[0m\u001b[0;34m)\u001b[0m\u001b[0;34m\u001b[0m\u001b[0;34m\u001b[0m\u001b[0m\n\u001b[0m\u001b[1;32m   1448\u001b[0m \u001b[0;34m\u001b[0m\u001b[0m\n\u001b[1;32m   1449\u001b[0m         \u001b[0mbound\u001b[0m \u001b[0;34m=\u001b[0m \u001b[0mnew_sig\u001b[0m\u001b[0;34m.\u001b[0m\u001b[0mbind\u001b[0m\u001b[0;34m(\u001b[0m\u001b[0max\u001b[0m\u001b[0;34m,\u001b[0m \u001b[0;34m*\u001b[0m\u001b[0margs\u001b[0m\u001b[0;34m,\u001b[0m \u001b[0;34m**\u001b[0m\u001b[0mkwargs\u001b[0m\u001b[0;34m)\u001b[0m\u001b[0;34m\u001b[0m\u001b[0;34m\u001b[0m\u001b[0m\n",
      "\u001b[0;32m~/.venvs/jlab2/lib/python3.8/site-packages/matplotlib/cbook/deprecation.py\u001b[0m in \u001b[0;36mwrapper\u001b[0;34m(*inner_args, **inner_kwargs)\u001b[0m\n\u001b[1;32m    409\u001b[0m                          \u001b[0;32melse\u001b[0m \u001b[0mdeprecation_addendum\u001b[0m\u001b[0;34m,\u001b[0m\u001b[0;34m\u001b[0m\u001b[0;34m\u001b[0m\u001b[0m\n\u001b[1;32m    410\u001b[0m                 **kwargs)\n\u001b[0;32m--> 411\u001b[0;31m         \u001b[0;32mreturn\u001b[0m \u001b[0mfunc\u001b[0m\u001b[0;34m(\u001b[0m\u001b[0;34m*\u001b[0m\u001b[0minner_args\u001b[0m\u001b[0;34m,\u001b[0m \u001b[0;34m**\u001b[0m\u001b[0minner_kwargs\u001b[0m\u001b[0;34m)\u001b[0m\u001b[0;34m\u001b[0m\u001b[0;34m\u001b[0m\u001b[0m\n\u001b[0m\u001b[1;32m    412\u001b[0m \u001b[0;34m\u001b[0m\u001b[0m\n\u001b[1;32m    413\u001b[0m     \u001b[0;32mreturn\u001b[0m \u001b[0mwrapper\u001b[0m\u001b[0;34m\u001b[0m\u001b[0;34m\u001b[0m\u001b[0m\n",
      "\u001b[0;32m~/.venvs/jlab2/lib/python3.8/site-packages/matplotlib/axes/_axes.py\u001b[0m in \u001b[0;36mscatter\u001b[0;34m(self, x, y, s, c, marker, cmap, norm, vmin, vmax, alpha, linewidths, verts, edgecolors, plotnonfinite, **kwargs)\u001b[0m\n\u001b[1;32m   4439\u001b[0m         \u001b[0my\u001b[0m \u001b[0;34m=\u001b[0m \u001b[0mnp\u001b[0m\u001b[0;34m.\u001b[0m\u001b[0mma\u001b[0m\u001b[0;34m.\u001b[0m\u001b[0mravel\u001b[0m\u001b[0;34m(\u001b[0m\u001b[0my\u001b[0m\u001b[0;34m)\u001b[0m\u001b[0;34m\u001b[0m\u001b[0;34m\u001b[0m\u001b[0m\n\u001b[1;32m   4440\u001b[0m         \u001b[0;32mif\u001b[0m \u001b[0mx\u001b[0m\u001b[0;34m.\u001b[0m\u001b[0msize\u001b[0m \u001b[0;34m!=\u001b[0m \u001b[0my\u001b[0m\u001b[0;34m.\u001b[0m\u001b[0msize\u001b[0m\u001b[0;34m:\u001b[0m\u001b[0;34m\u001b[0m\u001b[0;34m\u001b[0m\u001b[0m\n\u001b[0;32m-> 4441\u001b[0;31m             \u001b[0;32mraise\u001b[0m \u001b[0mValueError\u001b[0m\u001b[0;34m(\u001b[0m\u001b[0;34m\"x and y must be the same size\"\u001b[0m\u001b[0;34m)\u001b[0m\u001b[0;34m\u001b[0m\u001b[0;34m\u001b[0m\u001b[0m\n\u001b[0m\u001b[1;32m   4442\u001b[0m \u001b[0;34m\u001b[0m\u001b[0m\n\u001b[1;32m   4443\u001b[0m         \u001b[0;32mif\u001b[0m \u001b[0ms\u001b[0m \u001b[0;32mis\u001b[0m \u001b[0;32mNone\u001b[0m\u001b[0;34m:\u001b[0m\u001b[0;34m\u001b[0m\u001b[0;34m\u001b[0m\u001b[0m\n",
      "\u001b[0;31mValueError\u001b[0m: x and y must be the same size"
     ]
    },
    {
     "data": {
      "image/png": "[encoded data removed]",
      "text/plain": [
       "<Figure size 432x288 with 1 Axes>"
      ]
     },
     "metadata": {
      "needs_background": "light"
     },
     "output_type": "display_data"
    }
   ],
   "source": [
    "for i in range(10,20):\n",
    "    matplotlib.pyplot.scatter(s814_pd[i][0], np.log(s814_pd[i][1]+1))"
   ]
  },
  {
   "cell_type": "code",
   "execution_count": 37,
   "metadata": {},
   "outputs": [
    {
     "ename": "ValueError",
     "evalue": "x and y must be the same size",
     "output_type": "error",
     "traceback": [
      "\u001b[0;31m---------------------------------------------------------------------------\u001b[0m",
      "\u001b[0;31mValueError\u001b[0m                                Traceback (most recent call last)",
      "\u001b[0;32m<ipython-input-37-0e79c145d46a>\u001b[0m in \u001b[0;36m<module>\u001b[0;34m\u001b[0m\n\u001b[1;32m      1\u001b[0m \u001b[0;32mfor\u001b[0m \u001b[0mi\u001b[0m \u001b[0;32min\u001b[0m \u001b[0mrange\u001b[0m\u001b[0;34m(\u001b[0m\u001b[0;36m20\u001b[0m\u001b[0;34m,\u001b[0m\u001b[0;36m30\u001b[0m\u001b[0;34m)\u001b[0m\u001b[0;34m:\u001b[0m\u001b[0;34m\u001b[0m\u001b[0;34m\u001b[0m\u001b[0m\n\u001b[0;32m----> 2\u001b[0;31m     \u001b[0mmatplotlib\u001b[0m\u001b[0;34m.\u001b[0m\u001b[0mpyplot\u001b[0m\u001b[0;34m.\u001b[0m\u001b[0mscatter\u001b[0m\u001b[0;34m(\u001b[0m\u001b[0ms814_pd\u001b[0m\u001b[0;34m[\u001b[0m\u001b[0mi\u001b[0m\u001b[0;34m]\u001b[0m\u001b[0;34m[\u001b[0m\u001b[0;36m0\u001b[0m\u001b[0;34m]\u001b[0m\u001b[0;34m,\u001b[0m \u001b[0mnp\u001b[0m\u001b[0;34m.\u001b[0m\u001b[0mlog\u001b[0m\u001b[0;34m(\u001b[0m\u001b[0ms814_pd\u001b[0m\u001b[0;34m[\u001b[0m\u001b[0mi\u001b[0m\u001b[0;34m]\u001b[0m\u001b[0;34m[\u001b[0m\u001b[0;36m1\u001b[0m\u001b[0;34m]\u001b[0m\u001b[0;34m+\u001b[0m\u001b[0;36m1\u001b[0m\u001b[0;34m)\u001b[0m\u001b[0;34m)\u001b[0m\u001b[0;34m\u001b[0m\u001b[0;34m\u001b[0m\u001b[0m\n\u001b[0m",
      "\u001b[0;32m~/.venvs/jlab2/lib/python3.8/site-packages/matplotlib/pyplot.py\u001b[0m in \u001b[0;36mscatter\u001b[0;34m(x, y, s, c, marker, cmap, norm, vmin, vmax, alpha, linewidths, verts, edgecolors, plotnonfinite, data, **kwargs)\u001b[0m\n\u001b[1;32m   2888\u001b[0m         \u001b[0mverts\u001b[0m\u001b[0;34m=\u001b[0m\u001b[0mcbook\u001b[0m\u001b[0;34m.\u001b[0m\u001b[0mdeprecation\u001b[0m\u001b[0;34m.\u001b[0m\u001b[0m_deprecated_parameter\u001b[0m\u001b[0;34m,\u001b[0m\u001b[0;34m\u001b[0m\u001b[0;34m\u001b[0m\u001b[0m\n\u001b[1;32m   2889\u001b[0m         edgecolors=None, *, plotnonfinite=False, data=None, **kwargs):\n\u001b[0;32m-> 2890\u001b[0;31m     __ret = gca().scatter(\n\u001b[0m\u001b[1;32m   2891\u001b[0m         \u001b[0mx\u001b[0m\u001b[0;34m,\u001b[0m \u001b[0my\u001b[0m\u001b[0;34m,\u001b[0m \u001b[0ms\u001b[0m\u001b[0;34m=\u001b[0m\u001b[0ms\u001b[0m\u001b[0;34m,\u001b[0m \u001b[0mc\u001b[0m\u001b[0;34m=\u001b[0m\u001b[0mc\u001b[0m\u001b[0;34m,\u001b[0m \u001b[0mmarker\u001b[0m\u001b[0;34m=\u001b[0m\u001b[0mmarker\u001b[0m\u001b[0;34m,\u001b[0m \u001b[0mcmap\u001b[0m\u001b[0;34m=\u001b[0m\u001b[0mcmap\u001b[0m\u001b[0;34m,\u001b[0m \u001b[0mnorm\u001b[0m\u001b[0;34m=\u001b[0m\u001b[0mnorm\u001b[0m\u001b[0;34m,\u001b[0m\u001b[0;34m\u001b[0m\u001b[0;34m\u001b[0m\u001b[0m\n\u001b[1;32m   2892\u001b[0m         \u001b[0mvmin\u001b[0m\u001b[0;34m=\u001b[0m\u001b[0mvmin\u001b[0m\u001b[0;34m,\u001b[0m \u001b[0mvmax\u001b[0m\u001b[0;34m=\u001b[0m\u001b[0mvmax\u001b[0m\u001b[0;34m,\u001b[0m \u001b[0malpha\u001b[0m\u001b[0;34m=\u001b[0m\u001b[0malpha\u001b[0m\u001b[0;34m,\u001b[0m \u001b[0mlinewidths\u001b[0m\u001b[0;34m=\u001b[0m\u001b[0mlinewidths\u001b[0m\u001b[0;34m,\u001b[0m\u001b[0;34m\u001b[0m\u001b[0;34m\u001b[0m\u001b[0m\n",
      "\u001b[0;32m~/.venvs/jlab2/lib/python3.8/site-packages/matplotlib/__init__.py\u001b[0m in \u001b[0;36minner\u001b[0;34m(ax, data, *args, **kwargs)\u001b[0m\n\u001b[1;32m   1445\u001b[0m     \u001b[0;32mdef\u001b[0m \u001b[0minner\u001b[0m\u001b[0;34m(\u001b[0m\u001b[0max\u001b[0m\u001b[0;34m,\u001b[0m \u001b[0;34m*\u001b[0m\u001b[0margs\u001b[0m\u001b[0;34m,\u001b[0m \u001b[0mdata\u001b[0m\u001b[0;34m=\u001b[0m\u001b[0;32mNone\u001b[0m\u001b[0;34m,\u001b[0m \u001b[0;34m**\u001b[0m\u001b[0mkwargs\u001b[0m\u001b[0;34m)\u001b[0m\u001b[0;34m:\u001b[0m\u001b[0;34m\u001b[0m\u001b[0;34m\u001b[0m\u001b[0m\n\u001b[1;32m   1446\u001b[0m         \u001b[0;32mif\u001b[0m \u001b[0mdata\u001b[0m \u001b[0;32mis\u001b[0m \u001b[0;32mNone\u001b[0m\u001b[0;34m:\u001b[0m\u001b[0;34m\u001b[0m\u001b[0;34m\u001b[0m\u001b[0m\n\u001b[0;32m-> 1447\u001b[0;31m             \u001b[0;32mreturn\u001b[0m \u001b[0mfunc\u001b[0m\u001b[0;34m(\u001b[0m\u001b[0max\u001b[0m\u001b[0;34m,\u001b[0m \u001b[0;34m*\u001b[0m\u001b[0mmap\u001b[0m\u001b[0;34m(\u001b[0m\u001b[0msanitize_sequence\u001b[0m\u001b[0;34m,\u001b[0m \u001b[0margs\u001b[0m\u001b[0;34m)\u001b[0m\u001b[0;34m,\u001b[0m \u001b[0;34m**\u001b[0m\u001b[0mkwargs\u001b[0m\u001b[0;34m)\u001b[0m\u001b[0;34m\u001b[0m\u001b[0;34m\u001b[0m\u001b[0m\n\u001b[0m\u001b[1;32m   1448\u001b[0m \u001b[0;34m\u001b[0m\u001b[0m\n\u001b[1;32m   1449\u001b[0m         \u001b[0mbound\u001b[0m \u001b[0;34m=\u001b[0m \u001b[0mnew_sig\u001b[0m\u001b[0;34m.\u001b[0m\u001b[0mbind\u001b[0m\u001b[0;34m(\u001b[0m\u001b[0max\u001b[0m\u001b[0;34m,\u001b[0m \u001b[0;34m*\u001b[0m\u001b[0margs\u001b[0m\u001b[0;34m,\u001b[0m \u001b[0;34m**\u001b[0m\u001b[0mkwargs\u001b[0m\u001b[0;34m)\u001b[0m\u001b[0;34m\u001b[0m\u001b[0;34m\u001b[0m\u001b[0m\n",
      "\u001b[0;32m~/.venvs/jlab2/lib/python3.8/site-packages/matplotlib/cbook/deprecation.py\u001b[0m in \u001b[0;36mwrapper\u001b[0;34m(*inner_args, **inner_kwargs)\u001b[0m\n\u001b[1;32m    409\u001b[0m                          \u001b[0;32melse\u001b[0m \u001b[0mdeprecation_addendum\u001b[0m\u001b[0;34m,\u001b[0m\u001b[0;34m\u001b[0m\u001b[0;34m\u001b[0m\u001b[0m\n\u001b[1;32m    410\u001b[0m                 **kwargs)\n\u001b[0;32m--> 411\u001b[0;31m         \u001b[0;32mreturn\u001b[0m \u001b[0mfunc\u001b[0m\u001b[0;34m(\u001b[0m\u001b[0;34m*\u001b[0m\u001b[0minner_args\u001b[0m\u001b[0;34m,\u001b[0m \u001b[0;34m**\u001b[0m\u001b[0minner_kwargs\u001b[0m\u001b[0;34m)\u001b[0m\u001b[0;34m\u001b[0m\u001b[0;34m\u001b[0m\u001b[0m\n\u001b[0m\u001b[1;32m    412\u001b[0m \u001b[0;34m\u001b[0m\u001b[0m\n\u001b[1;32m    413\u001b[0m     \u001b[0;32mreturn\u001b[0m \u001b[0mwrapper\u001b[0m\u001b[0;34m\u001b[0m\u001b[0;34m\u001b[0m\u001b[0m\n",
      "\u001b[0;32m~/.venvs/jlab2/lib/python3.8/site-packages/matplotlib/axes/_axes.py\u001b[0m in \u001b[0;36mscatter\u001b[0;34m(self, x, y, s, c, marker, cmap, norm, vmin, vmax, alpha, linewidths, verts, edgecolors, plotnonfinite, **kwargs)\u001b[0m\n\u001b[1;32m   4439\u001b[0m         \u001b[0my\u001b[0m \u001b[0;34m=\u001b[0m \u001b[0mnp\u001b[0m\u001b[0;34m.\u001b[0m\u001b[0mma\u001b[0m\u001b[0;34m.\u001b[0m\u001b[0mravel\u001b[0m\u001b[0;34m(\u001b[0m\u001b[0my\u001b[0m\u001b[0;34m)\u001b[0m\u001b[0;34m\u001b[0m\u001b[0;34m\u001b[0m\u001b[0m\n\u001b[1;32m   4440\u001b[0m         \u001b[0;32mif\u001b[0m \u001b[0mx\u001b[0m\u001b[0;34m.\u001b[0m\u001b[0msize\u001b[0m \u001b[0;34m!=\u001b[0m \u001b[0my\u001b[0m\u001b[0;34m.\u001b[0m\u001b[0msize\u001b[0m\u001b[0;34m:\u001b[0m\u001b[0;34m\u001b[0m\u001b[0;34m\u001b[0m\u001b[0m\n\u001b[0;32m-> 4441\u001b[0;31m             \u001b[0;32mraise\u001b[0m \u001b[0mValueError\u001b[0m\u001b[0;34m(\u001b[0m\u001b[0;34m\"x and y must be the same size\"\u001b[0m\u001b[0;34m)\u001b[0m\u001b[0;34m\u001b[0m\u001b[0;34m\u001b[0m\u001b[0m\n\u001b[0m\u001b[1;32m   4442\u001b[0m \u001b[0;34m\u001b[0m\u001b[0m\n\u001b[1;32m   4443\u001b[0m         \u001b[0;32mif\u001b[0m \u001b[0ms\u001b[0m \u001b[0;32mis\u001b[0m \u001b[0;32mNone\u001b[0m\u001b[0;34m:\u001b[0m\u001b[0;34m\u001b[0m\u001b[0;34m\u001b[0m\u001b[0m\n",
      "\u001b[0;31mValueError\u001b[0m: x and y must be the same size"
     ]
    },
    {
     "data": {
      "image/png": "[encoded data removed]",
      "text/plain": [
       "<Figure size 432x288 with 1 Axes>"
      ]
     },
     "metadata": {
      "needs_background": "light"
     },
     "output_type": "display_data"
    }
   ],
   "source": [
    "for i in range(20,30):\n",
    "    matplotlib.pyplot.scatter(s814_pd[i][0], np.log(s814_pd[i][1]+1))"
   ]
  },
  {
   "cell_type": "code",
   "execution_count": 49,
   "metadata": {},
   "outputs": [
    {
     "name": "stdout",
     "output_type": "stream",
     "text": [
      "(0, 1671)\n",
      "(1, 1671)\n"
     ]
    }
   ],
   "source": [
    "s814_pd = get_periodgram1(s814_adata)\n",
    "s814_pd = s814_pd[:30]\n",
    "s814_pd = [el[1][:15] for el in s814_pd]\n",
    "\n",
    "print(s814_pd[0].shape)\n",
    "\n",
    "print(s814_adata[0].shape)\n",
    "\n",
    "\n"
   ]
  },
  {
   "cell_type": "code",
   "execution_count": 83,
   "metadata": {},
   "outputs": [
    {
     "name": "stdout",
     "output_type": "stream",
     "text": [
      "[-3, -7, -4]\n"
     ]
    }
   ],
   "source": []
  },
  {
   "cell_type": "code",
   "execution_count": null,
   "metadata": {},
   "outputs": [],
   "source": []
  }
 ],
 "metadata": {
  "kernelspec": {
   "display_name": "Python 3",
   "language": "python",
   "name": "python3"
  },
  "language_info": {
   "codemirror_mode": {
    "name": "ipython",
    "version": 3
   },
   "file_extension": ".py",
   "mimetype": "text/x-python",
   "name": "python",
   "nbconvert_exporter": "python",
   "pygments_lexer": "ipython3",
   "version": "3.8.3"
  }
 },
 "nbformat": 4,
 "nbformat_minor": 4
}
