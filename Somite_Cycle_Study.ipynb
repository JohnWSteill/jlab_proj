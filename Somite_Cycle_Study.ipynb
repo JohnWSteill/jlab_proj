{
 "cells": [
  {
   "cell_type": "markdown",
   "metadata": {},
   "source": [
    "# Somite Multiomics: miRNA and mRNA Peridogram Matching\n",
    "\n",
    "We have miRNA and mRNA data from a timecourse experiment that's been performed twice, once with 12.5 minute intervals, and again with 6.25 minute intervals. The 12.5 minute miRNA was sequenced twice. So we have five data sets:\n",
    "\n",
    "- Sub_0745_I: 6.25 min miRNA, 1st sequencing. \n",
    "- Sub_0745_II: 6.25 min miRNA, 2nd sequencing. \n",
    "- Sub_0743: 6.25 min mRNA\n",
    "- Sub_0800: 12.5 min mRNA\n",
    "- Sub_0814: 12.5 min miRNA\n",
    "\n",
    "This study was motivated by examing the miRNA hsa-miR-10a-5p, which has cycling in both time courses. What is worrying is that it appears to cycle strongly every 8 time points, even though the intervals are different!"
   ]
  },
  {
   "cell_type": "code",
   "execution_count": 1,
   "metadata": {},
   "outputs": [],
   "source": [
    "%load_ext autoreload\n",
    "%autoreload 2\n",
    "import somite_study_library as lib"
   ]
  },
  {
   "cell_type": "code",
   "execution_count": 2,
   "metadata": {},
   "outputs": [
    {
     "ename": "FileNotFoundError",
     "evalue": "Did not find file data/s743.tab.",
     "output_type": "error",
     "traceback": [
      "\u001b[0;31m---------------------------------------------------------------------------\u001b[0m",
      "\u001b[0;31mFileNotFoundError\u001b[0m                         Traceback (most recent call last)",
      "\u001b[0;32m<ipython-input-2-cec59dfa2ce8>\u001b[0m in \u001b[0;36m<module>\u001b[0;34m\u001b[0m\n\u001b[1;32m      2\u001b[0m \u001b[0;34m\u001b[0m\u001b[0m\n\u001b[1;32m      3\u001b[0m \u001b[0;34m\u001b[0m\u001b[0m\n\u001b[0;32m----> 4\u001b[0;31m \u001b[0;34m(\u001b[0m\u001b[0msub_0745_I\u001b[0m\u001b[0;34m,\u001b[0m \u001b[0msub_0745_II\u001b[0m\u001b[0;34m,\u001b[0m \u001b[0msub_0743\u001b[0m\u001b[0;34m,\u001b[0m \u001b[0msub_0800\u001b[0m\u001b[0;34m,\u001b[0m \u001b[0msub_0814\u001b[0m\u001b[0;34m)\u001b[0m \u001b[0;34m=\u001b[0m \u001b[0mlib\u001b[0m\u001b[0;34m.\u001b[0m\u001b[0mload_top_expressed_preprocessed_data\u001b[0m\u001b[0;34m(\u001b[0m\u001b[0;34m)\u001b[0m\u001b[0;34m\u001b[0m\u001b[0;34m\u001b[0m\u001b[0m\n\u001b[0m\u001b[1;32m      5\u001b[0m \u001b[0mfig\u001b[0m \u001b[0;34m=\u001b[0m \u001b[0mlib\u001b[0m\u001b[0;34m.\u001b[0m\u001b[0mplt\u001b[0m\u001b[0;34m.\u001b[0m\u001b[0mfigure\u001b[0m\u001b[0;34m(\u001b[0m\u001b[0mfigsize\u001b[0m\u001b[0;34m=\u001b[0m\u001b[0;34m(\u001b[0m\u001b[0;36m15\u001b[0m\u001b[0;34m,\u001b[0m\u001b[0;36m10\u001b[0m\u001b[0;34m)\u001b[0m\u001b[0;34m)\u001b[0m\u001b[0;34m\u001b[0m\u001b[0;34m\u001b[0m\u001b[0m\n\u001b[1;32m      6\u001b[0m \u001b[0max\u001b[0m \u001b[0;34m=\u001b[0m \u001b[0mfig\u001b[0m\u001b[0;34m.\u001b[0m\u001b[0madd_subplot\u001b[0m\u001b[0;34m(\u001b[0m\u001b[0;36m111\u001b[0m\u001b[0;34m)\u001b[0m\u001b[0;34m\u001b[0m\u001b[0;34m\u001b[0m\u001b[0m\n",
      "\u001b[0;32m~/jlab_proj/somite_study_library.py\u001b[0m in \u001b[0;36mload_top_expressed_preprocessed_data\u001b[0;34m()\u001b[0m\n\u001b[1;32m      9\u001b[0m \u001b[0;32mdef\u001b[0m \u001b[0mload_top_expressed_preprocessed_data\u001b[0m\u001b[0;34m(\u001b[0m\u001b[0;34m)\u001b[0m\u001b[0;34m:\u001b[0m\u001b[0;34m\u001b[0m\u001b[0;34m\u001b[0m\u001b[0m\n\u001b[1;32m     10\u001b[0m     \u001b[0ms745_adata\u001b[0m \u001b[0;34m=\u001b[0m \u001b[0msc\u001b[0m\u001b[0;34m.\u001b[0m\u001b[0mread\u001b[0m\u001b[0;34m(\u001b[0m\u001b[0;34m\"data/sub_0745_miRNA.ec.tab\"\u001b[0m\u001b[0;34m)\u001b[0m\u001b[0;34m.\u001b[0m\u001b[0mT\u001b[0m\u001b[0;34m\u001b[0m\u001b[0;34m\u001b[0m\u001b[0m\n\u001b[0;32m---> 11\u001b[0;31m     \u001b[0ms743_adata\u001b[0m \u001b[0;34m=\u001b[0m \u001b[0msc\u001b[0m\u001b[0;34m.\u001b[0m\u001b[0mread\u001b[0m\u001b[0;34m(\u001b[0m\u001b[0;34m\"data/s743.tab\"\u001b[0m\u001b[0;34m)\u001b[0m\u001b[0;34m.\u001b[0m\u001b[0mT\u001b[0m\u001b[0;34m\u001b[0m\u001b[0;34m\u001b[0m\u001b[0m\n\u001b[0m\u001b[1;32m     12\u001b[0m     \u001b[0ms800_adata\u001b[0m \u001b[0;34m=\u001b[0m \u001b[0msc\u001b[0m\u001b[0;34m.\u001b[0m\u001b[0mread\u001b[0m\u001b[0;34m(\u001b[0m\u001b[0;34m\"data/s800.tab\"\u001b[0m\u001b[0;34m)\u001b[0m\u001b[0;34m.\u001b[0m\u001b[0mT\u001b[0m\u001b[0;34m\u001b[0m\u001b[0;34m\u001b[0m\u001b[0m\n\u001b[1;32m     13\u001b[0m     \u001b[0ms814_adata\u001b[0m \u001b[0;34m=\u001b[0m \u001b[0msc\u001b[0m\u001b[0;34m.\u001b[0m\u001b[0mread\u001b[0m\u001b[0;34m(\u001b[0m\u001b[0;34m\"data/sub_0814_miRNA.ec.tab\"\u001b[0m\u001b[0;34m)\u001b[0m\u001b[0;34m.\u001b[0m\u001b[0mT\u001b[0m\u001b[0;34m\u001b[0m\u001b[0;34m\u001b[0m\u001b[0m\n",
      "\u001b[0;32m~/opt/anaconda3/lib/python3.8/site-packages/scanpy/readwrite.py\u001b[0m in \u001b[0;36mread\u001b[0;34m(filename, backed, sheet, ext, delimiter, first_column_names, backup_url, cache, cache_compression, **kwargs)\u001b[0m\n\u001b[1;32m    110\u001b[0m     \u001b[0mfilename\u001b[0m \u001b[0;34m=\u001b[0m \u001b[0mPath\u001b[0m\u001b[0;34m(\u001b[0m\u001b[0mfilename\u001b[0m\u001b[0;34m)\u001b[0m  \u001b[0;31m# allow passing strings\u001b[0m\u001b[0;34m\u001b[0m\u001b[0;34m\u001b[0m\u001b[0m\n\u001b[1;32m    111\u001b[0m     \u001b[0;32mif\u001b[0m \u001b[0mis_valid_filename\u001b[0m\u001b[0;34m(\u001b[0m\u001b[0mfilename\u001b[0m\u001b[0;34m)\u001b[0m\u001b[0;34m:\u001b[0m\u001b[0;34m\u001b[0m\u001b[0;34m\u001b[0m\u001b[0m\n\u001b[0;32m--> 112\u001b[0;31m         return _read(\n\u001b[0m\u001b[1;32m    113\u001b[0m             \u001b[0mfilename\u001b[0m\u001b[0;34m,\u001b[0m\u001b[0;34m\u001b[0m\u001b[0;34m\u001b[0m\u001b[0m\n\u001b[1;32m    114\u001b[0m             \u001b[0mbacked\u001b[0m\u001b[0;34m=\u001b[0m\u001b[0mbacked\u001b[0m\u001b[0;34m,\u001b[0m\u001b[0;34m\u001b[0m\u001b[0;34m\u001b[0m\u001b[0m\n",
      "\u001b[0;32m~/opt/anaconda3/lib/python3.8/site-packages/scanpy/readwrite.py\u001b[0m in \u001b[0;36m_read\u001b[0;34m(filename, backed, sheet, ext, delimiter, first_column_names, backup_url, cache, cache_compression, suppress_cache_warning, **kwargs)\u001b[0m\n\u001b[1;32m    726\u001b[0m \u001b[0;34m\u001b[0m\u001b[0m\n\u001b[1;32m    727\u001b[0m     \u001b[0;32mif\u001b[0m \u001b[0;32mnot\u001b[0m \u001b[0mis_present\u001b[0m\u001b[0;34m:\u001b[0m\u001b[0;34m\u001b[0m\u001b[0;34m\u001b[0m\u001b[0m\n\u001b[0;32m--> 728\u001b[0;31m         \u001b[0;32mraise\u001b[0m \u001b[0mFileNotFoundError\u001b[0m\u001b[0;34m(\u001b[0m\u001b[0;34mf'Did not find file {filename}.'\u001b[0m\u001b[0;34m)\u001b[0m\u001b[0;34m\u001b[0m\u001b[0;34m\u001b[0m\u001b[0m\n\u001b[0m\u001b[1;32m    729\u001b[0m     \u001b[0mlogg\u001b[0m\u001b[0;34m.\u001b[0m\u001b[0mdebug\u001b[0m\u001b[0;34m(\u001b[0m\u001b[0;34mf'reading {filename}'\u001b[0m\u001b[0;34m)\u001b[0m\u001b[0;34m\u001b[0m\u001b[0;34m\u001b[0m\u001b[0m\n\u001b[1;32m    730\u001b[0m     \u001b[0;32mif\u001b[0m \u001b[0;32mnot\u001b[0m \u001b[0mcache\u001b[0m \u001b[0;32mand\u001b[0m \u001b[0;32mnot\u001b[0m \u001b[0msuppress_cache_warning\u001b[0m\u001b[0;34m:\u001b[0m\u001b[0;34m\u001b[0m\u001b[0;34m\u001b[0m\u001b[0m\n",
      "\u001b[0;31mFileNotFoundError\u001b[0m: Did not find file data/s743.tab."
     ]
    }
   ],
   "source": [
    "import somite_study_library as lib\n",
    "\n",
    "\n",
    "(sub_0745_I, sub_0745_II, sub_0743, sub_0800, sub_0814) = lib.load_top_expressed_preprocessed_data()\n",
    "fig = lib.plt.figure(figsize=(15,10))\n",
    "ax = fig.add_subplot(111)\n",
    "miRNA_of_interest = 'hsa-miR-10a-5p'\n",
    "#figsize=(15,20)\n",
    "\n",
    "for miRNA_set, label in zip((sub_0745_I, sub_0745_II, sub_0814), ('sub_0745_I','sub_0745_II', 'sub_0814')):\n",
    "    position = list(miRNA_set.var.index).index(miRNA_of_interest)\n",
    "    y = miRNA_set.X[:,position]\n",
    "    x = miRNA_set.obs.time\n",
    "    ax.plot(x,y/lib.np.linalg.norm(y), label=label, linewidth=2.5)\n",
    "    ax.legend(loc='center left', bbox_to_anchor=(1, 0.5))\n",
    "ax.set_xlabel('Time (minutes)')\n",
    "ax.set_ylabel('Normalized expression')\n"
   ]
  },
  {
   "cell_type": "markdown",
   "metadata": {},
   "source": [
    "## Study Strategy\n",
    "\n",
    "To determine whether the cycling behavior is technical or biological, we will find miRNA-gene pairs in matching timecourses which cycle similarly. We will then take the intersection of these pairs, as we are interested in the ones common to each timecourse. To find these, we will use a different distance metric, using [periodograms](https://en.wikipedia.org/wiki/Periodogram). \n",
    "\n",
    "Because mRNA behavior lags behind the miRNA changes, periodograms are useful because they only measure the relative power of different frequencies, not the phase. \n",
    "\n",
    "\n"
   ]
  },
  {
   "cell_type": "code",
   "execution_count": 13,
   "metadata": {},
   "outputs": [
    {
     "name": "stdout",
     "output_type": "stream",
     "text": [
      "The Common Genes are: TUBA1A, RBMX, RPL13A, NPM1\n"
     ]
    }
   ],
   "source": [
    "# We are looking for mRNA genes which cycle similarly to a target miRNA. \n",
    "# Our strategy is to calculate the periodogram for the target miRNA, and all genes. \n",
    "# Sort by distance, and return n closest. \n",
    "# We'll look out 3 pairs of data. \n",
    "\n",
    "n_closest = 75\n",
    "s800_closest_genes = lib.get_mutual_periodgram_genes(\n",
    "    adata_miRNA=sub_0814, \n",
    "    target_miRNA='hsa-miR-10a-5p', \n",
    "    adata_mRNA=sub_0800,\n",
    "    n_closest=n_closest\n",
    ")\n",
    "\n",
    "s743_1_closest_genes = lib.get_mutual_periodgram_genes(\n",
    "    adata_miRNA=sub_0745_I, \n",
    "    target_miRNA='hsa-miR-10a-5p', \n",
    "    adata_mRNA=sub_0743,\n",
    "    n_closest=n_closest\n",
    ")\n",
    "\n",
    "s743_2_closest_genes = lib.get_mutual_periodgram_genes(\n",
    "    adata_miRNA=sub_0745_II, \n",
    "    target_miRNA='hsa-miR-10a-5p', \n",
    "    adata_mRNA=sub_0743,\n",
    "    n_closest=n_closest\n",
    ")\n",
    "\n",
    "common_genes = (\n",
    "    set(s800_closest_genes.index) \n",
    "    & set(s743_1_closest_genes.index)\n",
    "    & set(s743_2_closest_genes.index)\n",
    ")\n",
    "\n",
    "print(f'The Common Genes are: {\", \".join(common_genes)}')\n"
   ]
  },
  {
   "cell_type": "markdown",
   "metadata": {},
   "source": [
    "We are not sure about the significance of this finding. We visited [miRDB](http://mirdb.org/), an online database for miRNA target prediction, which lists RPL13A as a target, but not the other three. \n",
    "\n",
    "## Background and Future Work\n",
    "\n",
    "### K-means clustering in periodogram space.\n",
    "\n",
    "One concern we have is how noisy the data is, as well as the possible 8 cycle sequencing artifact. So we would like to survey more miRNA species. One way to do this is to cluster the top expressed miRNA into groups, and see if they all share the same artifact."
   ]
  },
  {
   "cell_type": "code",
   "execution_count": null,
   "metadata": {},
   "outputs": [],
   "source": [
    "K = 6\n",
    "s814_pd_array = lib.get_periodgram(sub_0814)\n",
    "#print(s814_pd_array.sh)\n",
    "C, centroids = lib.k_means_from_pd_data(s814_pd_array,K=K)\n",
    "\n",
    "print('C = \\n', C)"
   ]
  },
  {
   "cell_type": "code",
   "execution_count": 10,
   "metadata": {},
   "outputs": [
    {
     "ename": "NameError",
     "evalue": "name 'plt' is not defined",
     "output_type": "error",
     "traceback": [
      "\u001b[0;31m---------------------------------------------------------------------------\u001b[0m",
      "\u001b[0;31mNameError\u001b[0m                                 Traceback (most recent call last)",
      "\u001b[0;32m<ipython-input-10-32cbd018bcca>\u001b[0m in \u001b[0;36m<module>\u001b[0;34m\u001b[0m\n\u001b[1;32m      2\u001b[0m \u001b[0;34m\u001b[0m\u001b[0m\n\u001b[1;32m      3\u001b[0m \u001b[0;34m\u001b[0m\u001b[0m\n\u001b[0;32m----> 4\u001b[0;31m \u001b[0mfig\u001b[0m \u001b[0;34m=\u001b[0m \u001b[0mplt\u001b[0m\u001b[0;34m.\u001b[0m\u001b[0mfigure\u001b[0m\u001b[0;34m(\u001b[0m\u001b[0;34m)\u001b[0m\u001b[0;34m\u001b[0m\u001b[0;34m\u001b[0m\u001b[0m\n\u001b[0m\u001b[1;32m      5\u001b[0m \u001b[0max\u001b[0m \u001b[0;34m=\u001b[0m \u001b[0mfig\u001b[0m\u001b[0;34m.\u001b[0m\u001b[0madd_subplot\u001b[0m\u001b[0;34m(\u001b[0m\u001b[0;36m111\u001b[0m\u001b[0;34m)\u001b[0m\u001b[0;34m\u001b[0m\u001b[0;34m\u001b[0m\u001b[0m\n\u001b[1;32m      6\u001b[0m \u001b[0mtime\u001b[0m \u001b[0;34m=\u001b[0m \u001b[0ms800_top\u001b[0m\u001b[0;34m.\u001b[0m\u001b[0mobs\u001b[0m\u001b[0;34m.\u001b[0m\u001b[0mtime\u001b[0m\u001b[0;34m\u001b[0m\u001b[0;34m\u001b[0m\u001b[0m\n",
      "\u001b[0;31mNameError\u001b[0m: name 'plt' is not defined"
     ]
    }
   ],
   "source": [
    "\n",
    "fig = plt.figure()\n",
    "ax = fig.add_subplot(111)\n",
    "time = s800_top.obs.time\n",
    "\n",
    "for g in gene_I_set:\n",
    "    position = list(s800_top.var.index).index(g)\n",
    "    y = s800_top.X[:,position]\n",
    "    ax.plot(time,y/np.linalg.norm(y), label=s800_top.var.index[position].split(',')[0])\n",
    "    ax.legend(loc='center left', bbox_to_anchor=(1, 0.5))\n",
    "\n",
    "position1 = list(s814_top.var.index).index('hsa-miR-10a-5p')\n",
    "ax.plot(time,y/np.linalg.norm(y), label=s814_top.var.index[position1].split(',')[0])\n",
    "ax.legend(loc='center left', bbox_to_anchor=(1, 0.5))\n",
    "    \n",
    "\n",
    "   "
   ]
  },
  {
   "cell_type": "code",
   "execution_count": null,
   "metadata": {},
   "outputs": [],
   "source": [
    "\n",
    "#matplotlib.pyplot.scatter(s814_pd[0][0],centroids_2[1])\n",
    "fig = plt.figure()\n",
    "ax1 = fig.add_subplot(111)\n",
    "\n",
    "for i in range(K):\n",
    "    ax1.scatter(s814_pd[0][0]/6.25,centroids[i], s=10, label=i+1)\n",
    "    \n",
    "    \n",
    "\n",
    "plt.xlabel('Frequency (minutes-1)')\n",
    "plt.ylabel('Power')\n",
    "\n",
    "plt.legend();\n",
    "plt.show();\n",
    "1/(12.5 * 8 )\n"
   ]
  },
  {
   "cell_type": "code",
   "execution_count": null,
   "metadata": {},
   "outputs": [],
   "source": [
    "\n",
    "fig, axs = plt.subplots(K,1, figsize=(15,20))\n",
    "\n",
    "time = s814_adata.obs.time\n",
    "\n",
    "for i_k in range(K):\n",
    "    for i in range(len(C)):\n",
    "        if C[i]==i_k:\n",
    "            y = s800_top.X[:,i]\n",
    "            axs[i_k].plot(time,y/np.linalg.norm(y), label=s814_adata.var.index[i].split(',')[0])\n",
    "            axs[i_k].legend(loc='center left', bbox_to_anchor=(1, 0.5))\n",
    "   \n",
    "#plt.ylabel('Power')\n",
    "\n",
    "#plt.legend();\n",
    "#plt.show();\n",
    "\n",
    "#for i in range(10):\n",
    "   # matplotlib.pyplot.scatter(s814_pd[i][0], np.log(s814_pd[i][1]+1))"
   ]
  },
  {
   "cell_type": "code",
   "execution_count": null,
   "metadata": {},
   "outputs": [],
   "source": [
    "print(s814_clodis_gene)"
   ]
  },
  {
   "cell_type": "code",
   "execution_count": null,
   "metadata": {},
   "outputs": [],
   "source": [
    "K = 6\n",
    "C, centroids = k_means_from_pd_data(s745_pd_array_first_run,K)\n",
    "\n",
    "print('C = \\n', C)\n"
   ]
  },
  {
   "cell_type": "code",
   "execution_count": null,
   "metadata": {},
   "outputs": [],
   "source": [
    "fig = plt.figure()\n",
    "ax1 = fig.add_subplot(111)\n",
    "\n",
    "for i in range(K):\n",
    "    ax1.scatter(s745_pd_first_run[0][0]/6.25,centroids[i], s=10, label=i+1)\n",
    "    \n",
    "    \n",
    "\n",
    "plt.xlabel('Frequency (minutes-1)')\n",
    "plt.ylabel('Power')\n",
    "\n",
    "plt.legend();\n",
    "plt.show();\n",
    "1/(12.5 * 8 )"
   ]
  }
 ],
 "metadata": {
  "kernelspec": {
   "display_name": "Python 3",
   "language": "python",
   "name": "python3"
  },
  "language_info": {
   "codemirror_mode": {
    "name": "ipython",
    "version": 3
   },
   "file_extension": ".py",
   "mimetype": "text/x-python",
   "name": "python",
   "nbconvert_exporter": "python",
   "pygments_lexer": "ipython3",
   "version": "3.8.8"
  }
 },
 "nbformat": 4,
 "nbformat_minor": 4
}
