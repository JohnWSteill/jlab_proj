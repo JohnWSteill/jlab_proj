{
 "cells": [
  {
   "cell_type": "markdown",
   "metadata": {},
   "source": [
    "# Somite Multiomics: miRNA and mRNA Peridogram Matching\n",
    "\n",
    "We have miRNA and mRNA data from a timecourse experiment that's been performed twice, once with 12.5 minute intervals, and again with 6.25 minute intervals. The 12.5 minute miRNA was sequenced twice. So we have five data sets:\n",
    "\n",
    "- Sub_0745_I: 12.5 min miRNA, 1st sequencing. \n",
    "- Sub_0745_II: 12.5 min miRNA, 2nd sequencing. \n",
    "- Sub_0743: 12.5 min mRNA\n",
    "- Sub_0800: 6.25 min mRNA\n",
    "- Sub_0814: 6.25 min miRNA\n",
    "\n",
    "This study was motivated by examing the miRNA hsa-miR-10a-5p, which has cycling in both time courses. What is worrying is that it appears to cycle strongly every 8 time points, even though the intervals are different!"
   ]
  },
  {
   "cell_type": "code",
   "execution_count": null,
   "metadata": {},
   "outputs": [],
   "source": [
    "%load_ext autoreload\n",
    "%autoreload 2\n",
    "import somite_study_library as lib"
   ]
  },
  {
   "cell_type": "code",
   "execution_count": null,
   "metadata": {},
   "outputs": [],
   "source": [
    "(sub_0745_I, sub_0745_II, sub_0743, sub_0800, sub_0814) = lib.load_top_expressed_preprocessed_data()\n",
    "fig = lib.plt.figure(figsize=(15,10))\n",
    "ax = fig.add_subplot(111)\n",
    "miRNA_of_interest = 'hsa-miR-10a-5p'\n",
    "#figsize=(15,20)\n",
    "\n",
    "for miRNA_set, label in zip((sub_0745_I, sub_0745_II, sub_0814), ('sub_0745_I','sub_0745_II', 'sub_0814')):\n",
    "    position = list(miRNA_set.var.index).index(miRNA_of_interest)\n",
    "    y = miRNA_set.X[:,position]\n",
    "    x = miRNA_set.obs.time\n",
    "    ax.plot(x,y/lib.np.linalg.norm(y), label=label, linewidth=2.5,marker='o')\n",
    "    ax.legend(loc='center left', bbox_to_anchor=(1, 0.5))\n",
    "ax.set_xlabel('Time (minutes)')\n",
    "ax.set_ylabel('Normalized expression')\n",
    "lib.plt.title(\"hsa-miR-10a-5p Under Three Time Courses\")"
   ]
  },
  {
   "cell_type": "markdown",
   "metadata": {},
   "source": [
    "## Study Strategy\n",
    "\n",
    "To determine whether the cycling behavior is technical or biological, we will find miRNA-gene pairs in matching timecourses which cycle similarly. We will then take the intersection of these pairs, as we are interested in the ones common to each timecourse. To find these, we will use a different distance metric, using [periodograms](https://en.wikipedia.org/wiki/Periodogram). \n",
    "\n",
    "Because mRNA behavior lags behind the miRNA changes, periodograms are useful because they only measure the relative power of different frequencies, not the phase. \n",
    "\n",
    "\n"
   ]
  },
  {
   "cell_type": "code",
   "execution_count": null,
   "metadata": {},
   "outputs": [],
   "source": [
    "# We are looking for mRNA genes which cycle similarly to a target miRNA. \n",
    "# Our strategy is to calculate the periodogram for the target miRNA, and all genes. \n",
    "# Sort by distance, and return n closest. \n",
    "# We'll look out 3 pairs of data. \n",
    "\n",
    "n_closest = 75\n",
    "s800_closest_genes = lib.get_mutual_periodgram_genes(\n",
    "    adata_miRNA=sub_0814, \n",
    "    target_miRNA='hsa-miR-10a-5p', \n",
    "    adata_mRNA=sub_0800,\n",
    "    n_closest=n_closest\n",
    ")\n",
    "\n",
    "s743_1_closest_genes = lib.get_mutual_periodgram_genes(\n",
    "    adata_miRNA=sub_0745_I, \n",
    "    target_miRNA='hsa-miR-10a-5p', \n",
    "    adata_mRNA=sub_0743,\n",
    "    n_closest=n_closest\n",
    ")\n",
    "\n",
    "s743_2_closest_genes = lib.get_mutual_periodgram_genes(\n",
    "    adata_miRNA=sub_0745_II, \n",
    "    target_miRNA='hsa-miR-10a-5p', \n",
    "    adata_mRNA=sub_0743,\n",
    "    n_closest=n_closest\n",
    ")\n",
    "\n",
    "common_genes = (\n",
    "    set(s800_closest_genes.index) \n",
    "    & set(s743_1_closest_genes.index)\n",
    "    & set(s743_2_closest_genes.index)\n",
    ")\n",
    "\n",
    "print(f'The Common Genes are: {\", \".join(common_genes)}')"
   ]
  },
  {
   "cell_type": "markdown",
   "metadata": {},
   "source": [
    "We are not sure about the significance of this finding. We visited [miRDB](http://mirdb.org/), an online database for miRNA target prediction, which lists RPL13A as a target, but not the other three. \n"
   ]
  },
  {
   "cell_type": "markdown",
   "metadata": {},
   "source": [
    "We Also print out the expression circles of the four shared close mRNAs with the target miRNA in one pic for better viewing about the oscillation pattern in three groups of difference samples and difference timecourses."
   ]
  },
  {
   "cell_type": "code",
   "execution_count": null,
   "metadata": {},
   "outputs": [],
   "source": [
    "lib.plot_combine_targetMiR_ComMR(common_genes,sub_0814,sub_0800)\n",
    "lib.plt.title(\"800 & 814\")\n",
    "lib.plot_combine_targetMiR_ComMR(common_genes,sub_0745_I,sub_0743)\n",
    "lib.plt.title(\"0743 & 0745_I\")\n",
    "lib.plot_combine_targetMiR_ComMR(common_genes,sub_0745_II,sub_0743)\n",
    "lib.plt.title(\"0743 & 0745_II\")"
   ]
  },
  {
   "cell_type": "markdown",
   "metadata": {},
   "source": [
    "TUBA1A shares very similar period as our target miRNA in all three plots"
   ]
  },
  {
   "cell_type": "markdown",
   "metadata": {},
   "source": [
    "## Background and Future Work\n",
    "\n",
    "### K-means clustering in periodogram space.\n",
    "\n",
    "One concern we have is how noisy the data is, as well as the possible 8 cycle sequencing artifact. So we would like to survey more miRNA species. One way to do this is to cluster the top expressed miRNA into groups, and see if they all share the same artifact."
   ]
  },
  {
   "cell_type": "code",
   "execution_count": null,
   "metadata": {},
   "outputs": [],
   "source": [
    "print(\"0745_I, hsa-miR-10a-5p group\")\n",
    "K = 6\n",
    "s745I_pd_array = lib.get_periodgram(sub_0745_I)\n",
    "C1, centroids = lib.k_means_from_pd_data(s745I_pd_array,K=K)\n",
    "lib.plot_targetmiRNA_group(sub_0745_I,C1)\n"
   ]
  },
  {
   "cell_type": "code",
   "execution_count": null,
   "metadata": {},
   "outputs": [],
   "source": [
    "print(\"0745_II, hsa-miR-10a-5p group\")\n",
    "K = 6\n",
    "s745II_pd_array = lib.get_periodgram(sub_0745_II)\n",
    "C2, centroids = lib.k_means_from_pd_data(s745II_pd_array,K=K)\n",
    "lib.plot_targetmiRNA_group(sub_0745_II,C2)"
   ]
  },
  {
   "cell_type": "code",
   "execution_count": null,
   "metadata": {},
   "outputs": [],
   "source": [
    "print(\"0814, hsa-miR-10a-5p group\")\n",
    "K = 6\n",
    "s814_pd_array = lib.get_periodgram(sub_0814)\n",
    "C3, centroids = lib.k_means_from_pd_data(s814_pd_array,K=K)\n",
    "lib.plot_targetmiRNA_group(sub_0814,C3)"
   ]
  },
  {
   "cell_type": "markdown",
   "metadata": {},
   "source": [
    "We trying to find the common genes shared in these three groups of miRNAs and plot out their expression circle for comparison between sub_814, sub_745_I and sub_745_II. However, since the K means algorithm is ML, it trains itself each time and we got different group each run. "
   ]
  }
 ],
 "metadata": {
  "kernelspec": {
   "display_name": "Python 3 (ipykernel)",
   "language": "python",
   "name": "python3"
  },
  "language_info": {
   "codemirror_mode": {
    "name": "ipython",
    "version": 3
   },
   "file_extension": ".py",
   "mimetype": "text/x-python",
   "name": "python",
   "nbconvert_exporter": "python",
   "pygments_lexer": "ipython3",
   "version": "3.7.6"
  }
 },
 "nbformat": 4,
 "nbformat_minor": 4
}
