{
 "cells": [
  {
   "cell_type": "code",
   "execution_count": 2,
   "metadata": {},
   "outputs": [],
   "source": [
    "import random\n",
    "import pandas as pd\n",
    "import numpy as np\n",
    "import scanpy as sc\n",
    "from scipy import signal\n",
    "import matplotlib.pyplot\n",
    "\n",
    "def get_normed_and_zero_filtered_data(filename):\n",
    "    # TODO perhaps include other normalization options\n",
    "    df = pd.read_csv(filename, sep = '\\t', index_col = 0)\n",
    "    df = df / df.mean()\n",
    "    df = df.loc[df.sum(axis=1) != 0,:]\n",
    "    df = (df\n",
    "          .assign(sum=df.sum(axis=1))\n",
    "          .sort_values(by='sum', ascending=False)\n",
    "          .drop('sum', axis = 1)\n",
    "         )\n",
    "    return df\n",
    "\n",
    "def get_s745_time(names):\n",
    "    return [float(el.split('_')[1]) for el in names]\n",
    "\n",
    "def get_s814_time(names):\n",
    "    return [ 6.25 * float(el.split('_')[0][-2:]) for el in names]\n",
    "\n",
    "def get_periodgram(sc_data):\n",
    "    return [signal.periodogram(sc_data.X[:,i]) for i in range(sc_data.shape[1])]\n",
    "\n",
    "def plot_one_row_line(df, row_num):\n",
    "    df.iloc[row_num,:].plot.line()\n",
    "    \n",
    "def plot_one_row_scatter(df, row_num, time):\n",
    "    matplotlib.pyplot.scatter(df.iloc[row_num,:], time)\n",
    "      \n"
   ]
  },
  {
   "cell_type": "code",
   "execution_count": 3,
   "metadata": {},
   "outputs": [
    {
     "data": {
      "image/png": "[encoded data removed]",
      "text/plain": [
       "<Figure size 432x288 with 1 Axes>"
      ]
     },
     "metadata": {
      "needs_background": "light"
     },
     "output_type": "display_data"
    }
   ],
   "source": [
    "s745_df = get_normed_and_zero_filtered_data(\"data/sub_0745_miRNA.ec.tab\")\n",
    "s745_time = get_s745_time(s745_df.columns)\n",
    "s814_df = get_normed_and_zero_filtered_data(\"data/sub_0814_miRNA.ec.tab\")\n",
    "\n",
    "plot_one_row_scatter(s745_df, 1,s745_time )\n"
   ]
  },
  {
   "cell_type": "code",
   "execution_count": 18,
   "metadata": {},
   "outputs": [
    {
     "name": "stdout",
     "output_type": "stream",
     "text": [
      "(50, 2, 49)\n"
     ]
    }
   ],
   "source": [
    " \n",
    "s814_adata = sc.read(\"data/sub_0814_miRNA.ec.tab\").T\n",
    "\n",
    "s814_adata.obs['time'] = get_s814_time(s814_adata.obs.index)\n",
    "\n",
    "sc.pp.normalize_total(s814_adata, target_sum=1e6, exclude_highly_expressed=True)\n",
    "sc.pp.log1p(s814_adata)\n",
    "sc.pp.filter_genes(s814_adata, min_counts=1)\n",
    "\n",
    "sc.pp.highly_variable_genes(s814_adata, n_top_genes=50)\n",
    "# sc.pl.highest_expr_genes(s814_adata, n_top=30, )\n",
    "\n",
    "\n",
    "s814_pd = get_periodgram(s814_adata[:,s814_adata.var.highly_variable]) \n",
    "s814_pd_array = np.array([i[1] for i in s814_pd])\n",
    "np_array =np.array(s814_pd)\n",
    "#print(np_array.shape)\n",
    "#print(s814_pd_array.shape)\n",
    "\n"
   ]
  },
  {
   "cell_type": "code",
   "execution_count": 15,
   "metadata": {},
   "outputs": [],
   "source": [
    "\n",
    "def dist(x, y):\n",
    "    return (x-y).T@(x-y)\n",
    "\n",
    "\n",
    "\"\"\"\n",
    "    this implementation of k-means takes as input (i) a matrix pd\n",
    "    with the data points as rows (ii) an integer K representing the number \n",
    "    of clusters, and returns (i) a matrix with the K rows representing \n",
    "    the cluster centers \n",
    "    \"\"\"\n",
    "def k_means_from_pd_data(pd, K, maxIters = 30):\n",
    "\n",
    "\n",
    "    centroids = pd[np.random.choice(pd.shape[0], K)]\n",
    "    for i in range(maxIters):\n",
    "        # Cluster Assignment step\n",
    "        C = np.array([np.argmin([dist(x_i, y_k) for y_k in centroids]) for x_i in pd])\n",
    "        # Update centroids step\n",
    "        for k in range(K):\n",
    "            if (C == k).any():\n",
    "                centroids[k] = pd[C == k].mean(axis = 0) \n",
    "            else: # if there are no data points assigned to this certain centroid\n",
    "                centroids[k] = pd[np.random.choice(len(pd))] \n",
    "    return centroids\n",
    "\n",
    "   \n",
    "   \n",
    "\n"
   ]
  },
  {
   "cell_type": "code",
   "execution_count": 43,
   "metadata": {},
   "outputs": [
    {
     "name": "stdout",
     "output_type": "stream",
     "text": [
      "centroids = \n",
      " [[9.68459904e-13 1.80603647e+00 1.97867191e+00 9.43738401e-01\n",
      "  1.56929147e+00 1.09399164e+00 5.68999231e-01 1.47077620e+00\n",
      "  7.78008163e-01 1.30033207e+00 1.63259315e+00 9.43342865e-01\n",
      "  1.65175343e+00 1.29539752e+00 2.00089383e+00 1.52308452e+00\n",
      "  1.26061952e+00 1.16493762e+00 1.65616035e+00 5.77129781e-01\n",
      "  1.59163570e+00 9.43272591e-01 1.46000671e+00 1.02696466e+00\n",
      "  7.31176376e-01 8.74704540e-01 6.25406682e-01 1.04964387e+00\n",
      "  1.92420483e+00 6.55029356e-01 2.63807327e-01 1.12982833e+00\n",
      "  1.03281701e+00 1.93712080e+00 1.01800203e+00 6.61638319e-01\n",
      "  9.94684935e-01 1.56715333e+00 1.31440258e+00 2.49166489e+00\n",
      "  2.81131744e+00 1.53915703e+00 1.18459833e+00 1.94333398e+00\n",
      "  5.80040634e-01 1.48257911e+00 1.35681725e+00 7.48873532e-01\n",
      "  4.28221941e-01]\n",
      " [3.30698468e-13 2.19321632e+00 2.13459277e+00 2.38203502e+00\n",
      "  2.96065664e+00 2.09835434e+00 3.57596588e+00 3.27968740e+00\n",
      "  2.95863509e+00 2.96812654e+00 1.83436656e+00 1.62120295e+00\n",
      "  4.68607092e+00 1.74154270e+00 2.45017576e+00 2.10762358e+00\n",
      "  8.91271353e-01 1.05053794e+00 1.02691126e+00 2.20824766e+00\n",
      "  1.38552642e+00 8.26280475e-01 1.36091208e+00 2.07139301e+00\n",
      "  2.68495297e+00 1.75149596e+00 1.49302673e+00 8.54722023e-01\n",
      "  1.54896295e+00 1.10647178e+00 1.53770256e+00 1.25008988e+00\n",
      "  1.56908250e+00 2.46039057e+00 1.27414048e+00 1.32893395e+00\n",
      "  4.02819395e+00 2.74604917e+00 3.20147800e+00 2.46651053e+00\n",
      "  2.16077399e+00 1.28351820e+00 1.74460602e+00 9.91930246e-01\n",
      "  1.54166090e+00 1.92311049e+00 2.75596976e+00 1.91632915e+00\n",
      "  8.99361014e-01]\n",
      " [7.76415932e-13 1.39875202e+01 7.28308344e+00 8.77038383e+00\n",
      "  1.57180297e+00 2.00746512e+00 3.79341221e+00 2.69218779e+00\n",
      "  3.26079369e+00 2.17873168e+00 4.11893654e+00 4.02699614e+00\n",
      "  1.44172630e+01 5.04825735e+00 1.42454338e+00 2.45294976e+00\n",
      "  1.50480199e+00 2.46016169e+00 2.58451676e+00 4.48792839e+00\n",
      "  1.52758205e+00 5.28449237e-01 4.49821615e+00 2.49545002e+00\n",
      "  5.36538172e+00 3.17939854e+00 3.80651808e+00 1.99135375e+00\n",
      "  1.50454044e+00 3.37942791e+00 2.33804488e+00 1.66356289e+00\n",
      "  1.92530429e+00 3.24135399e+00 3.29407644e+00 1.90980041e+00\n",
      "  8.52268600e+00 9.69435513e-01 7.35122263e-01 2.66998649e+00\n",
      "  1.73996329e+00 2.41469193e+00 2.23250151e+00 2.24392033e+00\n",
      "  2.59859681e+00 4.49296892e-01 2.97957087e+00 4.41844130e+00\n",
      "  9.92727876e-01]\n",
      " [4.98799244e-13 6.86941743e-01 3.68773788e-01 3.03473681e-01\n",
      "  3.12099904e-01 3.96952033e-01 4.78008538e-01 4.30917203e-01\n",
      "  3.66241127e-01 3.52410436e-01 4.02356178e-01 2.74865061e-01\n",
      "  8.85281444e-01 3.81792873e-01 3.20309937e-01 3.91767681e-01\n",
      "  3.88394505e-01 4.56432134e-01 4.33326572e-01 3.08926761e-01\n",
      "  3.97782266e-01 3.75123501e-01 5.34033537e-01 4.18345749e-01\n",
      "  6.41542435e-01 4.16126788e-01 4.58107501e-01 3.67817819e-01\n",
      "  4.11410481e-01 3.61304730e-01 4.97200906e-01 3.30779523e-01\n",
      "  3.52966666e-01 3.66469026e-01 3.27987522e-01 3.86394769e-01\n",
      "  3.32085192e-01 3.89976472e-01 4.07815337e-01 4.05691683e-01\n",
      "  4.38145816e-01 4.78997499e-01 4.10808057e-01 3.50149661e-01\n",
      "  3.85816604e-01 4.32988495e-01 3.30459625e-01 3.31474811e-01\n",
      "  1.54973298e-01]\n",
      " [1.85170412e-12 3.93915596e+01 9.74458885e+00 2.36486745e+00\n",
      "  4.99214840e+00 3.24381185e+00 1.32238889e+00 2.27969241e+00\n",
      "  2.13832736e+00 1.77593267e+00 1.26357293e+00 1.06158710e+00\n",
      "  5.13550472e+00 1.89970660e+00 6.74047887e-01 1.24724746e+00\n",
      "  1.14062619e+00 1.45600832e+00 1.86968350e+00 1.95316482e+00\n",
      "  2.10123324e+00 2.43919706e+00 1.42954469e+00 9.37501252e-01\n",
      "  3.28649950e+00 1.14696240e+00 1.02834749e+00 9.30281937e-01\n",
      "  2.39055586e+00 1.08911228e+00 2.31726599e+00 9.63479698e-01\n",
      "  6.32309794e-01 3.16738069e-01 2.38983226e+00 2.94816762e-01\n",
      "  1.82200122e+00 1.03411782e+00 7.90002763e-01 1.89882207e+00\n",
      "  6.77412212e-01 2.27558041e+00 1.68104112e+00 7.95719802e-01\n",
      "  1.91326976e+00 1.12399614e+00 1.42833507e+00 8.75646234e-01\n",
      "  8.93164456e-01]\n",
      " [1.48029744e-12 2.66755463e+02 7.75980911e+01 4.89475727e-01\n",
      "  7.24994802e+00 1.22641563e+01 1.14321232e+00 4.63681269e+00\n",
      "  1.37969055e+01 1.62150860e+00 3.37383795e+00 6.29846954e+00\n",
      "  9.04879093e-01 1.32526731e+00 2.05574274e+00 2.42360592e+00\n",
      "  3.48644161e+00 2.61065149e+00 4.69384766e+00 4.16094398e+00\n",
      "  9.63774490e+00 3.14577520e-01 2.52873510e-01 1.40147960e+00\n",
      "  4.67745399e+00 1.74755359e+00 7.59909868e-01 8.93548965e+00\n",
      "  8.57382178e-01 9.97514248e-01 1.52042055e+00 2.42468819e-01\n",
      "  3.70451355e+00 1.55487609e+00 1.45463789e+00 1.68862283e+00\n",
      "  2.76923561e+00 8.59829843e-01 6.78830624e-01 5.70716429e+00\n",
      "  3.66340816e-01 6.68463421e+00 3.69617522e-01 4.98799372e+00\n",
      "  4.27961111e+00 7.83482504e+00 2.43473911e+00 4.53356266e+00\n",
      "  1.16542161e+00]]\n"
     ]
    }
   ],
   "source": [
    "K = 6\n",
    "centroids = k_means_from_pd_data(s814_pd_array,K)\n",
    "\n",
    "print('centroids = \\n', centroids)"
   ]
  },
  {
   "cell_type": "code",
   "execution_count": 44,
   "metadata": {},
   "outputs": [
    {
     "data": {
      "image/png": "[encoded data removed]",
      "text/plain": [
       "<Figure size 432x288 with 1 Axes>"
      ]
     },
     "metadata": {
      "needs_background": "light"
     },
     "output_type": "display_data"
    }
   ],
   "source": [
    "import matplotlib.pyplot as plt\n",
    "#matplotlib.pyplot.scatter(s814_pd[0][0],centroids_2[1])\n",
    "fig = plt.figure()\n",
    "ax1 = fig.add_subplot(111)\n",
    "\n",
    "for i in range(K):\n",
    "    ax1.scatter(s814_pd[0][0],centroids[i], s=10, label=i+1)\n",
    "\n",
    "plt.legend();\n",
    "plt.show();\n"
   ]
  },
  {
   "cell_type": "code",
   "execution_count": 45,
   "metadata": {},
   "outputs": [],
   "source": [
    "#for i in range(10):\n",
    "   # matplotlib.pyplot.scatter(s814_pd[i][0], np.log(s814_pd[i][1]+1))"
   ]
  },
  {
   "cell_type": "code",
   "execution_count": null,
   "metadata": {},
   "outputs": [],
   "source": []
  },
  {
   "cell_type": "code",
   "execution_count": null,
   "metadata": {},
   "outputs": [],
   "source": []
  },
  {
   "cell_type": "code",
   "execution_count": null,
   "metadata": {},
   "outputs": [],
   "source": [
    "\n"
   ]
  },
  {
   "cell_type": "code",
   "execution_count": null,
   "metadata": {},
   "outputs": [],
   "source": []
  },
  {
   "cell_type": "code",
   "execution_count": null,
   "metadata": {},
   "outputs": [],
   "source": []
  },
  {
   "cell_type": "code",
   "execution_count": null,
   "metadata": {},
   "outputs": [],
   "source": []
  }
 ],
 "metadata": {
  "kernelspec": {
   "display_name": "Python 3",
   "language": "python",
   "name": "python3"
  },
  "language_info": {
   "codemirror_mode": {
    "name": "ipython",
    "version": 3
   },
   "file_extension": ".py",
   "mimetype": "text/x-python",
   "name": "python",
   "nbconvert_exporter": "python",
   "pygments_lexer": "ipython3",
   "version": "3.8.3"
  }
 },
 "nbformat": 4,
 "nbformat_minor": 4
}
